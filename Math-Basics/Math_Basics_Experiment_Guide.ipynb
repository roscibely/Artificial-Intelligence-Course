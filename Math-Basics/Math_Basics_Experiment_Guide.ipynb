{
  "nbformat": 4,
  "nbformat_minor": 0,
  "metadata": {
    "colab": {
      "name": "Math Basics Experiment Guide.ipynb",
      "provenance": [],
      "authorship_tag": "ABX9TyOpe2Vx1n6Y9Vlo0S+h/M4O",
      "include_colab_link": true
    },
    "kernelspec": {
      "name": "python3",
      "display_name": "Python 3"
    }
  },
  "cells": [
    {
      "cell_type": "markdown",
      "metadata": {
        "id": "view-in-github",
        "colab_type": "text"
      },
      "source": [
        "<a href=\"https://colab.research.google.com/github/roscibely/Huawei-HCIA/blob/main/Math-Basics/Math_Basics_Experiment_Guide.ipynb\" target=\"_parent\"><img src=\"https://colab.research.google.com/assets/colab-badge.svg\" alt=\"Open In Colab\"/></a>"
      ]
    },
    {
      "cell_type": "markdown",
      "metadata": {
        "id": "dSjB5z5_FI9E"
      },
      "source": [
        "This document mainly uses the **math** library, **numpy**, and scipy library. The **math** library, a standard library of Python, provides some common mathematical functions; the **numpy** library, a numerical calculation and expansion library of Python, is mainly used to handle issues such as linear algebra, random number generation, and Fourier Transform; the **scipy** labrary is used to deal with issues such as statistics, optimization, interpolation, and bouns points. "
      ]
    },
    {
      "cell_type": "markdown",
      "metadata": {
        "id": "UgPdJqZrGw7G"
      },
      "source": [
        "# 1. Basics math functions"
      ]
    },
    {
      "cell_type": "code",
      "metadata": {
        "id": "jVeqOesYE0Pj"
      },
      "source": [
        "import math \n",
        "import numpy as np"
      ],
      "execution_count": 2,
      "outputs": []
    },
    {
      "cell_type": "code",
      "metadata": {
        "id": "kqbtBlkeGC4U",
        "outputId": "499a6e43-bd85-45be-b0ad-a7126e9c4447",
        "colab": {
          "base_uri": "https://localhost:8080/"
        }
      },
      "source": [
        "#ceil() returns the minimum integer greater than or equal to x\n",
        "math.ceil(4.3)"
      ],
      "execution_count": 5,
      "outputs": [
        {
          "output_type": "execute_result",
          "data": {
            "text/plain": [
              "5"
            ]
          },
          "metadata": {
            "tags": []
          },
          "execution_count": 5
        }
      ]
    },
    {
      "cell_type": "code",
      "metadata": {
        "id": "8xJuk5XeGmCW",
        "outputId": "8da6111c-00cd-4f7d-83b5-a78a16471637",
        "colab": {
          "base_uri": "https://localhost:8080/"
        }
      },
      "source": [
        "#floor() return the maximum integer less than or equal to x \n",
        "math.floor(4.3)"
      ],
      "execution_count": 6,
      "outputs": [
        {
          "output_type": "execute_result",
          "data": {
            "text/plain": [
              "4"
            ]
          },
          "metadata": {
            "tags": []
          },
          "execution_count": 6
        }
      ]
    },
    {
      "cell_type": "markdown",
      "metadata": {
        "id": "swoG1_CGG1aT"
      },
      "source": [
        "# 2. Linear Algebra Experiment"
      ]
    },
    {
      "cell_type": "code",
      "metadata": {
        "id": "v1WVtAOwG6N8",
        "outputId": "77884255-0ef0-4616-a6ba-3909738582e0",
        "colab": {
          "base_uri": "https://localhost:8080/"
        }
      },
      "source": [
        "#Generate a two-dimensional tensor whose elements are 0 and dimensions are 3 and 4\n",
        "np.zeros((3,4)) #3 lines and 4 columns "
      ],
      "execution_count": 7,
      "outputs": [
        {
          "output_type": "execute_result",
          "data": {
            "text/plain": [
              "array([[0., 0., 0., 0.],\n",
              "       [0., 0., 0., 0.],\n",
              "       [0., 0., 0., 0.]])"
            ]
          },
          "metadata": {
            "tags": []
          },
          "execution_count": 7
        }
      ]
    },
    {
      "cell_type": "code",
      "metadata": {
        "id": "1c_Q2s7PHPkM",
        "outputId": "1821f2f2-d3c7-4ce9-8ad9-509e2d1e07f4",
        "colab": {
          "base_uri": "https://localhost:8080/"
        }
      },
      "source": [
        "#Generate a 3d random tensor with dimensions 2,3,4\n",
        "np.random.rand(2,3,4)"
      ],
      "execution_count": 8,
      "outputs": [
        {
          "output_type": "execute_result",
          "data": {
            "text/plain": [
              "array([[[0.36795786, 0.68137555, 0.2866637 , 0.6251878 ],\n",
              "        [0.34649041, 0.34533404, 0.31232883, 0.06440583],\n",
              "        [0.73646116, 0.36989571, 0.88069747, 0.32826696]],\n",
              "\n",
              "       [[0.46886831, 0.15597468, 0.64572536, 0.09799862],\n",
              "        [0.74344389, 0.24768811, 0.43767717, 0.29498896],\n",
              "        [0.68034344, 0.05571075, 0.39662425, 0.67284608]]])"
            ]
          },
          "metadata": {
            "tags": []
          },
          "execution_count": 8
        }
      ]
    },
    {
      "cell_type": "code",
      "metadata": {
        "id": "3xNDREehHhR9",
        "outputId": "22509ff5-d436-4cd5-abb6-99aabe90bca1",
        "colab": {
          "base_uri": "https://localhost:8080/"
        }
      },
      "source": [
        "#matrix implementation \n",
        "np.mat(np.zeros((3,3)))"
      ],
      "execution_count": 9,
      "outputs": [
        {
          "output_type": "execute_result",
          "data": {
            "text/plain": [
              "matrix([[0., 0., 0.],\n",
              "        [0., 0., 0.],\n",
              "        [0., 0., 0.]])"
            ]
          },
          "metadata": {
            "tags": []
          },
          "execution_count": 9
        }
      ]
    },
    {
      "cell_type": "markdown",
      "metadata": {
        "id": "R-cSLP4IH5kO"
      },
      "source": [
        "2.1 reshape Operation \n",
        "\n",
        "The reshape operation is used to change the dimension number of a array and size of each dimension. \n"
      ]
    },
    {
      "cell_type": "code",
      "metadata": {
        "id": "ALGzTf2xK0Ni",
        "outputId": "9f678023-9ba9-4593-d74e-416a7d78ab82",
        "colab": {
          "base_uri": "https://localhost:8080/"
        }
      },
      "source": [
        "#Generate a vector from 0 to 11\n",
        "x=np.arange(12) #also can be np.arange(1,13,1)\n",
        "print(x)"
      ],
      "execution_count": 15,
      "outputs": [
        {
          "output_type": "stream",
          "text": [
            "[ 0  1  2  3  4  5  6  7  8  9 10 11]\n"
          ],
          "name": "stdout"
        }
      ]
    },
    {
      "cell_type": "code",
      "metadata": {
        "id": "sJFMWIhuLHQr",
        "outputId": "7e2d87b4-d19f-461d-95c4-7a2b133dd626",
        "colab": {
          "base_uri": "https://localhost:8080/"
        }
      },
      "source": [
        "x.shape"
      ],
      "execution_count": 16,
      "outputs": [
        {
          "output_type": "execute_result",
          "data": {
            "text/plain": [
              "(12,)"
            ]
          },
          "metadata": {
            "tags": []
          },
          "execution_count": 16
        }
      ]
    },
    {
      "cell_type": "code",
      "metadata": {
        "id": "v42rWRyGLQNI",
        "outputId": "498d3f99-1136-4cf5-db02-2d3bd42dc8d1",
        "colab": {
          "base_uri": "https://localhost:8080/"
        }
      },
      "source": [
        "#Convert the matrix x into a 2d matrix \n",
        "x=x.reshape(1,12)\n",
        "print(x)"
      ],
      "execution_count": 18,
      "outputs": [
        {
          "output_type": "stream",
          "text": [
            "[[ 0  1  2  3  4  5  6  7  8  9 10 11]]\n"
          ],
          "name": "stdout"
        }
      ]
    },
    {
      "cell_type": "code",
      "metadata": {
        "id": "P6B59vsnLbj1",
        "outputId": "727b6cc6-cdad-4508-c06b-6a54347204a3",
        "colab": {
          "base_uri": "https://localhost:8080/"
        }
      },
      "source": [
        "x.shape"
      ],
      "execution_count": 19,
      "outputs": [
        {
          "output_type": "execute_result",
          "data": {
            "text/plain": [
              "(1, 12)"
            ]
          },
          "metadata": {
            "tags": []
          },
          "execution_count": 19
        }
      ]
    },
    {
      "cell_type": "code",
      "metadata": {
        "id": "mAL_Bx0oLecF",
        "outputId": "ef279b41-f323-4c02-fa4f-4352045d7691",
        "colab": {
          "base_uri": "https://localhost:8080/"
        }
      },
      "source": [
        "#Convert x to 3x4 matrix\n",
        "x=x.reshape(3,4)\n",
        "print(x)"
      ],
      "execution_count": 21,
      "outputs": [
        {
          "output_type": "stream",
          "text": [
            "[[ 0  1  2  3]\n",
            " [ 4  5  6  7]\n",
            " [ 8  9 10 11]]\n"
          ],
          "name": "stdout"
        }
      ]
    },
    {
      "cell_type": "code",
      "metadata": {
        "id": "79-l9SgJLpaE",
        "outputId": "8c6f911a-66fa-45ea-d040-4c99d7bc1f31",
        "colab": {
          "base_uri": "https://localhost:8080/"
        }
      },
      "source": [
        "#Transposition implementation \n",
        "print(x.T)"
      ],
      "execution_count": 22,
      "outputs": [
        {
          "output_type": "stream",
          "text": [
            "[[ 0  4  8]\n",
            " [ 1  5  9]\n",
            " [ 2  6 10]\n",
            " [ 3  7 11]]\n"
          ],
          "name": "stdout"
        }
      ]
    },
    {
      "cell_type": "code",
      "metadata": {
        "id": "-fdhsc6SL1Iw",
        "outputId": "9135c580-b587-46a9-fcdc-37a5365025e1",
        "colab": {
          "base_uri": "https://localhost:8080/"
        }
      },
      "source": [
        "#Matrix multiplication \n",
        "np.matmul(x,x.T)"
      ],
      "execution_count": 24,
      "outputs": [
        {
          "output_type": "execute_result",
          "data": {
            "text/plain": [
              "array([[ 14,  38,  62],\n",
              "       [ 38, 126, 214],\n",
              "       [ 62, 214, 366]])"
            ]
          },
          "metadata": {
            "tags": []
          },
          "execution_count": 24
        }
      ]
    },
    {
      "cell_type": "code",
      "metadata": {
        "id": "2S3DLoNLMCNK",
        "outputId": "52a4c547-56d4-4aee-e5e4-63bb9c7e4d22",
        "colab": {
          "base_uri": "https://localhost:8080/"
        }
      },
      "source": [
        "print(x*x) #is the same x**2"
      ],
      "execution_count": 26,
      "outputs": [
        {
          "output_type": "stream",
          "text": [
            "[[  0   1   4   9]\n",
            " [ 16  25  36  49]\n",
            " [ 64  81 100 121]]\n"
          ],
          "name": "stdout"
        }
      ]
    },
    {
      "cell_type": "code",
      "metadata": {
        "id": "TjbCjn_fMQMG",
        "outputId": "f4d565f6-ddcd-4b25-dddb-2209842b89c8",
        "colab": {
          "base_uri": "https://localhost:8080/"
        }
      },
      "source": [
        "x**2"
      ],
      "execution_count": 27,
      "outputs": [
        {
          "output_type": "execute_result",
          "data": {
            "text/plain": [
              "array([[  0,   1,   4,   9],\n",
              "       [ 16,  25,  36,  49],\n",
              "       [ 64,  81, 100, 121]])"
            ]
          },
          "metadata": {
            "tags": []
          },
          "execution_count": 27
        }
      ]
    },
    {
      "cell_type": "code",
      "metadata": {
        "id": "CbaouYQbMUsf",
        "outputId": "300bfb58-cb59-4050-8136-77ce13398a1a",
        "colab": {
          "base_uri": "https://localhost:8080/"
        }
      },
      "source": [
        "#inverse matrix\n",
        "np.linalg.inv([[1, 2], [4, 6]])"
      ],
      "execution_count": 28,
      "outputs": [
        {
          "output_type": "execute_result",
          "data": {
            "text/plain": [
              "array([[-3. ,  1. ],\n",
              "       [ 2. , -0.5]])"
            ]
          },
          "metadata": {
            "tags": []
          },
          "execution_count": 28
        }
      ]
    }
  ]
}
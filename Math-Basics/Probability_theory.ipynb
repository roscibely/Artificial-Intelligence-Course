{
  "nbformat": 4,
  "nbformat_minor": 0,
  "metadata": {
    "colab": {
      "name": "Probability theory.ipynb",
      "provenance": [],
      "authorship_tag": "ABX9TyMJCbnLwEtImgZTRCkTyx0s",
      "include_colab_link": true
    },
    "kernelspec": {
      "name": "python3",
      "display_name": "Python 3"
    }
  },
  "cells": [
    {
      "cell_type": "markdown",
      "metadata": {
        "id": "view-in-github",
        "colab_type": "text"
      },
      "source": [
        "<a href=\"https://colab.research.google.com/github/roscibely/Huawei-HCIA/blob/main/Math-Basics/Probability_theory.ipynb\" target=\"_parent\"><img src=\"https://colab.research.google.com/assets/colab-badge.svg\" alt=\"Open In Colab\"/></a>"
      ]
    },
    {
      "cell_type": "markdown",
      "metadata": {
        "id": "Koj9InPcP3gS"
      },
      "source": [
        "This section describes the knowledge of probabillity and statistics, and mainly uses the **numpy** and **scipy** frameworks. "
      ]
    },
    {
      "cell_type": "code",
      "metadata": {
        "id": "Ax8FmaN8M-Ht"
      },
      "source": [
        "import numpy as np\n",
        "import scipy as sp "
      ],
      "execution_count": 1,
      "outputs": []
    },
    {
      "cell_type": "code",
      "metadata": {
        "id": "0EcF4nWHQUg4",
        "outputId": "a1ea465e-73d3-4475-9342-27ace0181173",
        "colab": {
          "base_uri": "https://localhost:8080/"
        }
      },
      "source": [
        "#Averge value \n",
        "b=[1,3,5,6]\n",
        "np.mean(b)"
      ],
      "execution_count": 2,
      "outputs": [
        {
          "output_type": "execute_result",
          "data": {
            "text/plain": [
              "3.75"
            ]
          },
          "metadata": {
            "tags": []
          },
          "execution_count": 2
        }
      ]
    },
    {
      "cell_type": "code",
      "metadata": {
        "id": "b5U3fwbaQe4I",
        "outputId": "77fcf850-f793-4ec6-ce40-dbd3b754ab0f",
        "colab": {
          "base_uri": "https://localhost:8080/"
        }
      },
      "source": [
        "#Variance and Standard deviation\n",
        "np.var(b)"
      ],
      "execution_count": 3,
      "outputs": [
        {
          "output_type": "execute_result",
          "data": {
            "text/plain": [
              "3.6875"
            ]
          },
          "metadata": {
            "tags": []
          },
          "execution_count": 3
        }
      ]
    },
    {
      "cell_type": "code",
      "metadata": {
        "id": "Ibf-d4klQm7R",
        "outputId": "e2ba6607-0542-44dd-84d9-43b719985cd9",
        "colab": {
          "base_uri": "https://localhost:8080/"
        }
      },
      "source": [
        "np.std(b) #Standard deviation"
      ],
      "execution_count": 4,
      "outputs": [
        {
          "output_type": "execute_result",
          "data": {
            "text/plain": [
              "1.920286436967152"
            ]
          },
          "metadata": {
            "tags": []
          },
          "execution_count": 4
        }
      ]
    },
    {
      "cell_type": "code",
      "metadata": {
        "id": "Hn9vWJ8qQwDh",
        "outputId": "3427d1e1-2cee-4c88-97ac-fe7ffaaef177",
        "colab": {
          "base_uri": "https://localhost:8080/"
        }
      },
      "source": [
        "#Covariance\n",
        "np.cov(b)"
      ],
      "execution_count": 5,
      "outputs": [
        {
          "output_type": "execute_result",
          "data": {
            "text/plain": [
              "array(4.91666667)"
            ]
          },
          "metadata": {
            "tags": []
          },
          "execution_count": 5
        }
      ]
    },
    {
      "cell_type": "markdown",
      "metadata": {
        "id": "4bS7d1pMQ2n7"
      },
      "source": [
        "## Binomial Distribution implementation"
      ]
    },
    {
      "cell_type": "code",
      "metadata": {
        "id": "-ouNQmF5Q8zd"
      },
      "source": [
        "from scipy.stats import binom, norm, beta, expon\n",
        "import matplotlib.pyplot as plt\n"
      ],
      "execution_count": 6,
      "outputs": []
    },
    {
      "cell_type": "code",
      "metadata": {
        "id": "w18NRaiaRIeI",
        "outputId": "816f3741-8ff3-4717-bec0-d93c25a9c0b8",
        "colab": {
          "base_uri": "https://localhost:8080/",
          "height": 313
        }
      },
      "source": [
        "binom_sim=binom.rvs(n=10,p=0.3,size=10000)\n",
        "print('Data:', binom_sim)\n",
        "print('Mean: %g SD: %g' %(np.mean(binom_sim), np.std(binom_sim,ddof=1)))\n",
        "\n",
        "#plot\n",
        "plt.hist(binom_sim,bins=10)\n",
        "plt.xlabel(('x'))\n",
        "plt.ylabel('density')\n",
        "plt.show()"
      ],
      "execution_count": 10,
      "outputs": [
        {
          "output_type": "stream",
          "text": [
            "Data: [0 1 3 ... 2 2 2]\n",
            "Mean: 3.0108 SD: 1.44488\n"
          ],
          "name": "stdout"
        },
        {
          "output_type": "display_data",
          "data": {
            "image/png": "[encoded data removed]",
            "text/plain": [
              "<Figure size 432x288 with 1 Axes>"
            ]
          },
          "metadata": {
            "tags": [],
            "needs_background": "light"
          }
        }
      ]
    },
    {
      "cell_type": "markdown",
      "metadata": {
        "id": "lNbA0OTtSNz1"
      },
      "source": [
        "## Poisson Distribution "
      ]
    },
    {
      "cell_type": "markdown",
      "metadata": {
        "id": "o_iRY2fh6w7F"
      },
      "source": [
        "A random variable X that obeys the Poisson distribution indicates the number of occurrences of an event within a fixed time interval that meets the parameter $\\lambda$.   The parameter $\\lambda$ indicates the rate of an event. Both the average value and variance of the random variable X are $\\lambda$. "
      ]
    },
    {
      "cell_type": "code",
      "metadata": {
        "id": "ik8C4ePWSSAZ"
      },
      "source": [
        "import numpy as np \n",
        "import matplotlib.pyplot as plt\n"
      ],
      "execution_count": 11,
      "outputs": []
    },
    {
      "cell_type": "code",
      "metadata": {
        "id": "fWHRdIMO7ocq",
        "outputId": "753637ad-a69f-40fd-c39d-a11c73ad8028",
        "colab": {
          "base_uri": "https://localhost:8080/",
          "height": 265
        }
      },
      "source": [
        "x=np.random.poisson(lam=5,size=10000)\n",
        "pillar=15\n",
        "\n",
        "a=plt.hist(x,bins=pillar,density=True,range=[0,pillar],color='g',alpha=0.5)\n",
        "plt.plot(a[1][0:pillar],a[0],'r')\n",
        "plt.grid()\n",
        "plt.show()"
      ],
      "execution_count": 15,
      "outputs": [
        {
          "output_type": "display_data",
          "data": {
            "image/png": "[encoded data removed]",
            "text/plain": [
              "<Figure size 432x288 with 1 Axes>"
            ]
          },
          "metadata": {
            "tags": [],
            "needs_background": "light"
          }
        }
      ]
    },
    {
      "cell_type": "markdown",
      "metadata": {
        "id": "cpTbdGY68bfI"
      },
      "source": [
        "## Normal Distribution"
      ]
    },
    {
      "cell_type": "markdown",
      "metadata": {
        "id": "78ftjAG78hQ3"
      },
      "source": [
        "Normal distribution is continuous. Its function can obtain a value anywhere on the real line. Normal distribution is described by two parameters: average value $\\mu$ and standard deviation $\\sigma$ of distribution. "
      ]
    },
    {
      "cell_type": "code",
      "metadata": {
        "id": "8UnlA7la8gbn"
      },
      "source": [
        "from scipy.stats import norm \n",
        "import numpy as np\n",
        "import matplotlib.pyplot as plt\n"
      ],
      "execution_count": 17,
      "outputs": []
    },
    {
      "cell_type": "code",
      "metadata": {
        "id": "pJwqfrK99e7e",
        "outputId": "8deff08b-9a5a-43af-8986-3f7c203225b3",
        "colab": {
          "base_uri": "https://localhost:8080/",
          "height": 279
        }
      },
      "source": [
        "mu=0\n",
        "sigma=1\n",
        "x=np.arange(-5,5,0.1)\n",
        "y=norm.pdf(x,mu,sigma)\n",
        "plt.plot(x,y)\n",
        "plt.xlabel('x')\n",
        "plt.ylabel('density')\n",
        "plt.show()"
      ],
      "execution_count": 19,
      "outputs": [
        {
          "output_type": "display_data",
          "data": {
            "image/png": "[encoded data removed]",
            "text/plain": [
              "<Figure size 432x288 with 1 Axes>"
            ]
          },
          "metadata": {
            "tags": [],
            "needs_background": "light"
          }
        }
      ]
    },
    {
      "cell_type": "markdown",
      "metadata": {
        "id": "8toT1He_-Cu9"
      },
      "source": [
        "## Beta Distribution "
      ]
    },
    {
      "cell_type": "markdown",
      "metadata": {
        "id": "UDOTcTHM-FrS"
      },
      "source": [
        "The beta distribuition, continuous distribution with values between 0 and 1, is described by the values of two morphological parameters $\\alpha$ and $\\beta$.  "
      ]
    },
    {
      "cell_type": "code",
      "metadata": {
        "id": "tpT9hqwp-WEI"
      },
      "source": [
        "from scipy.stats import beta\n",
        "import numpy as np\n",
        "import matplotlib.pyplot as plt"
      ],
      "execution_count": 20,
      "outputs": []
    },
    {
      "cell_type": "code",
      "metadata": {
        "id": "fsUugtQ1-a7X",
        "outputId": "f8368850-f658-4595-8a94-7a95d0ba2571",
        "colab": {
          "base_uri": "https://localhost:8080/",
          "height": 295
        }
      },
      "source": [
        "a=0.5\n",
        "b=0.5\n",
        "x=np.arange(0.01,1,0.01)\n",
        "y=beta.pdf(x,a,b)\n",
        "plt.plot(x,y)\n",
        "plt.title('Beta a=%f b=%f' %(a,b))\n",
        "plt.xlabel('x')\n",
        "plt.ylabel('density')\n",
        "plt.show()"
      ],
      "execution_count": 27,
      "outputs": [
        {
          "output_type": "display_data",
          "data": {
            "image/png": "[encoded data removed]",
            "text/plain": [
              "<Figure size 432x288 with 1 Axes>"
            ]
          },
          "metadata": {
            "tags": [],
            "needs_background": "light"
          }
        }
      ]
    },
    {
      "cell_type": "markdown",
      "metadata": {
        "id": "mL9y5Tef_fhI"
      },
      "source": [
        "## Exponential Distribution"
      ]
    },
    {
      "cell_type": "code",
      "metadata": {
        "id": "rCYnwx-6_WKP"
      },
      "source": [
        "from scipy.stats import expon\n",
        "import numpy as np\n",
        "import matplotlib.pyplot as plt"
      ],
      "execution_count": 28,
      "outputs": []
    },
    {
      "cell_type": "code",
      "metadata": {
        "id": "iBj6c8IZ_qDu",
        "outputId": "fa401839-c5e9-45ad-aa5f-38a3d08de883",
        "colab": {
          "base_uri": "https://localhost:8080/",
          "height": 295
        }
      },
      "source": [
        "lam=0.5\n",
        "x=np.arange(0,15,0.1)\n",
        "y=expon.pdf(x,lam)\n",
        "plt.plot(x,y)\n",
        "plt.title('Exponential: lam=%f' %lam)\n",
        "plt.xlabel('x')\n",
        "plt.ylabel('density')\n",
        "plt.show()"
      ],
      "execution_count": 29,
      "outputs": [
        {
          "output_type": "display_data",
          "data": {
            "image/png": "[encoded data removed]",
            "text/plain": [
              "<Figure size 432x288 with 1 Axes>"
            ]
          },
          "metadata": {
            "tags": [],
            "needs_background": "light"
          }
        }
      ]
    }
  ]
}
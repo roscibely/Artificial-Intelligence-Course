{
  "nbformat": 4,
  "nbformat_minor": 0,
  "metadata": {
    "colab": {
      "name": "Detail of linear regression.ipynb",
      "provenance": [],
      "authorship_tag": "ABX9TyN7oWANM+9ZXhLR8nWUfWM3",
      "include_colab_link": true
    },
    "kernelspec": {
      "name": "python3",
      "display_name": "Python 3"
    }
  },
  "cells": [
    {
      "cell_type": "markdown",
      "metadata": {
        "id": "view-in-github",
        "colab_type": "text"
      },
      "source": [
        "<a href=\"https://colab.research.google.com/github/roscibely/Huawei-HCIA/blob/main/Detail_of_linear_regression.ipynb\" target=\"_parent\"><img src=\"https://colab.research.google.com/assets/colab-badge.svg\" alt=\"Open In Colab\"/></a>"
      ]
    },
    {
      "cell_type": "markdown",
      "metadata": {
        "id": "SrauoApnAtyp"
      },
      "source": [
        "Experiment Guide\n",
        "\n",
        "\n",
        "2.1 Introduction\n",
        "\n",
        "2.1.1 About This Experiment\n",
        "\n",
        "This experiment mainly uses basic Python code and the simplest data to reproduce how a linear regression algorithm iterates and fits the existing data distribution step by step.\n",
        "\n",
        "The experiment mainly used Numpy module and Matplotlib module.\n",
        "Numpy for calculation, Matplotlib for drawing.\n",
        "\n",
        "2.1.2 Objectives\n",
        "\n",
        "The main purpose of this experiment is as follows.\n",
        "- Familiar with basic Python statements\n",
        "- Master the implementation steps of linear regression"
      ]
    },
    {
      "cell_type": "code",
      "metadata": {
        "id": "yLOVY6pRAs0n",
        "outputId": "6fb26cc6-6cc2-435b-a847-266c816fe7c0",
        "colab": {
          "base_uri": "https://localhost:8080/",
          "height": 282
        }
      },
      "source": [
        "#import the necessary modules \n",
        "import numpy as np\n",
        "import matplotlib.pyplot as plt \n",
        "\n",
        "#define data, and change list to array \n",
        "\n",
        "x=[3,21,22,34,54,34,55,67,89,99]\n",
        "x=np.array(x)\n",
        "\n",
        "y=[1,10,14,34,44,36,22,67,79,90]\n",
        "y=np.array(y)\n",
        "\n",
        "#Show the effect of a scatter plot\n",
        "plt.scatter(x,y)"
      ],
      "execution_count": 1,
      "outputs": [
        {
          "output_type": "execute_result",
          "data": {
            "text/plain": [
              "<matplotlib.collections.PathCollection at 0x7f9dfa572be0>"
            ]
          },
          "metadata": {
            "tags": []
          },
          "execution_count": 1
        },
        {
          "output_type": "display_data",
          "data": {
            "image/png": "[encoded data removed]",
            "text/plain": [
              "<Figure size 432x288 with 1 Axes>"
            ]
          },
          "metadata": {
            "tags": [],
            "needs_background": "light"
          }
        }
      ]
    },
    {
      "cell_type": "code",
      "metadata": {
        "id": "xkfY0h96BIlq"
      },
      "source": [
        "'''\n",
        "Define related functions \n",
        "'''\n",
        "\n",
        "#regression model ax+b\n",
        "def model(a,b,x):\n",
        "    return a*x+b\n",
        "\n",
        "#loss function \n",
        "def loss_function(a,b,x,y):\n",
        "    num = len(x)\n",
        "    prediction = model(a,b,x)\n",
        "    l=(0.5/num)*(np.square(prediction-y)).sum() \n",
        "    return l\n",
        "\n",
        "#The optimization function mainly USES partial derivatives to update two parameters a and b\n",
        "def optimize(a,b,x,y):\n",
        "    num = len(x)\n",
        "    prediction = model(a,b,x)\n",
        "    #Update the values of A and B by finding the partial derivatives of the loss function on a and b\n",
        "    da = (1.0/num) * ((prediction -y)*x).sum()\n",
        "    db = (1.0/num) * ((prediction -y).sum())\n",
        "    a = a - Lr*da\n",
        "    b = b - Lr*db\n",
        "    return a, b\n",
        "\n",
        "#iterated function, return a and b \n",
        "def iterate(a,b,x,y,times):\n",
        "    for i in range(times):\n",
        "        a,b=optimize(a,b,x,y)\n",
        "    return a,b\n"
      ],
      "execution_count": 2,
      "outputs": []
    },
    {
      "cell_type": "code",
      "metadata": {
        "id": "kpX_bcT1BHQ1",
        "outputId": "77778e51-2ac3-487a-e295-96cf0d75f6e0",
        "colab": {
          "base_uri": "https://localhost:8080/",
          "height": 299
        }
      },
      "source": [
        "'''\n",
        "Start the iteration\n",
        "'''\n",
        "#initialize parameters and display\n",
        "a=np.random.rand(1)\n",
        "b=np.random.rand(1)\n",
        "Lr=1e-4 # learning rate\n",
        "\n",
        "#For the first iteration, the parameter values, losses, and visualization after the iteration are displayed\n",
        "a,b = iterate(a,b,x,y,1000)\n",
        "prediction=model(a,b,x)\n",
        "loss = loss_function(a, b, x, y)\n",
        "print(a,b,loss)\n",
        "plt.scatter(x,y)\n",
        "plt.plot(x,prediction)"
      ],
      "execution_count": 4,
      "outputs": [
        {
          "output_type": "stream",
          "text": [
            "[0.84772256] [0.62758654] 47.03024551774871\n"
          ],
          "name": "stdout"
        },
        {
          "output_type": "execute_result",
          "data": {
            "text/plain": [
              "[<matplotlib.lines.Line2D at 0x7f9dfa010898>]"
            ]
          },
          "metadata": {
            "tags": []
          },
          "execution_count": 4
        },
        {
          "output_type": "display_data",
          "data": {
            "image/png": "[encoded data removed]",
            "text/plain": [
              "<Figure size 432x288 with 1 Axes>"
            ]
          },
          "metadata": {
            "tags": [],
            "needs_background": "light"
          }
        }
      ]
    }
  ]
}

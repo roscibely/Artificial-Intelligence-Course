{
  "nbformat": 4,
  "nbformat_minor": 0,
  "metadata": {
    "colab": {
      "name": "Deep Learning Overview Experiment Guide - Parte 01.ipynb",
      "provenance": [],
      "include_colab_link": true
    },
    "kernelspec": {
      "name": "python3",
      "display_name": "Python 3"
    },
    "accelerator": "GPU"
  },
  "cells": [
    {
      "cell_type": "markdown",
      "metadata": {
        "id": "view-in-github",
        "colab_type": "text"
      },
      "source": [
        "<a href=\"https://colab.research.google.com/github/roscibely/Artificial-Intelligence-Course/blob/main/Deep_Learning_Overview_Experiment_Guide_Parte_01.ipynb\" target=\"_parent\"><img src=\"https://colab.research.google.com/assets/colab-badge.svg\" alt=\"Open In Colab\"/></a>"
      ]
    },
    {
      "cell_type": "markdown",
      "metadata": {
        "id": "NDKiIQ2-dC6i"
      },
      "source": [
        "# Description\n",
        "\n"
      ]
    },
    {
      "cell_type": "markdown",
      "metadata": {
        "id": "NItAvDYWd3dp"
      },
      "source": [
        "This experiment guide introduces the following four experiments:\n",
        "\n",
        "- **Experiment 1**: TensorFlow basics\n",
        "  - This experiment mainly describes the basic syntax of TensorFlow 2.\n",
        "- **Experiment 2**: common modules of TensorFlow 2\n",
        "  - This experiment mainly introduces Keras interfaces.\n",
        "- **Experiment 3**: handwritten text recognition\n",
        "  - This experiment uses basic code to help learners understand how to implement handwritten text recognition through TensorFlow 2.0.\n",
        "- **Experiment 4**: Image Classification\n",
        "  - This experiment is based on how to use TensorFlow 2 and python packages to predict image categories from CIFAR10 image classification dataset. It is hoped that trainees or readers can get started with deep learning and have the basic programming capability of implementing image recognition models.\n"
      ]
    },
    {
      "cell_type": "markdown",
      "metadata": {
        "id": "UZ5GQlJed_xs"
      },
      "source": [
        "# 1 TensorFlow 2.x Basics"
      ]
    },
    {
      "cell_type": "markdown",
      "metadata": {
        "id": "kyQDwkIjieV1"
      },
      "source": [
        "## 1.1 Introduction"
      ]
    },
    {
      "cell_type": "markdown",
      "metadata": {
        "id": "Ia-RvEPCeUWi"
      },
      "source": [
        "### 1.1.1 About this experiment"
      ]
    },
    {
      "cell_type": "markdown",
      "metadata": {
        "id": "OTp4yiX0ejx7"
      },
      "source": [
        "This experiment helps trainees understand the basic syntax of **TensorFlow 2.x**\n",
        " by introducing a series of tensor operations of TensorFlow 2.x, including tensor creation, slicing, and indexing, tensor dimension modification, tensor arithmetic operations, and tensor sorting."
      ]
    },
    {
      "cell_type": "markdown",
      "metadata": {
        "id": "czVYHbvwezCW"
      },
      "source": [
        "### 1.1.2 Objectives"
      ]
    },
    {
      "cell_type": "markdown",
      "metadata": {
        "id": "pbqBbUhIe3x0"
      },
      "source": [
        "Upon completion of this task, you will be able to:\n",
        "\n",
        "- Understand how to create a tensor.\n",
        "- Master the tensor slicing and indexing methods.\n",
        "- Master the syntax for tensor dimension modification.\n",
        "- Master arithmetic operations of tensors.\n",
        "- Master the tensor sorting method.\n",
        "- Dive deeper into eager execution and AutoGraph based on code.\n"
      ]
    },
    {
      "cell_type": "markdown",
      "metadata": {
        "id": "3fd2WkTofBZ1"
      },
      "source": [
        "## 1.2 Experiment Steps"
      ]
    },
    {
      "cell_type": "markdown",
      "metadata": {
        "id": "qfACJJxJitet"
      },
      "source": [
        "### 1.2.1 Introduction to tensors"
      ]
    },
    {
      "cell_type": "markdown",
      "metadata": {
        "id": "IbaqU7Usix_c"
      },
      "source": [
        "In TensorFlow, **tensors** are classified into **constant tensors** and **variable tensors**.\n",
        "\n",
        "A defined constant tensor has an unchangeable value and dimension, and a defined variable tensor has a changeable value and an unchangeable dimension.\n",
        "In neural networks, variable tensors are generally used as matrices for storing weights and other information, and are a type of trainable data. Constant tensors can be used as variables for storing hyperparameters or other structured data.\n"
      ]
    },
    {
      "cell_type": "markdown",
      "metadata": {
        "id": "pmR671Rri7mE"
      },
      "source": [
        "#### 1.2.1.1 Tensor Creation"
      ]
    },
    {
      "cell_type": "markdown",
      "metadata": {
        "id": "QXirF3wYjAQ9"
      },
      "source": [
        "##### 1.2.1.1.1 Creating a Constant Tensor"
      ]
    },
    {
      "cell_type": "markdown",
      "metadata": {
        "id": "S3YJouVKjGiX"
      },
      "source": [
        "Common methods for creating a constant tensor include:\n",
        "\n",
        "- **tf.constant()**: creates a constant tensor.\n",
        "- **tf.zeros(), tf.zeros_like(), tf.ones(), and tf.ones_like()**: create an all-zero or all-one constant tensor.\n",
        "- **tf.fill()**: creates a tensor with a user-defined value.\n",
        "- **tf.random**: creates a tensor with a known distribution.\n",
        "\n",
        "Creating a list object by using NumPy, and then converting the list object into a tensor by using **tf.convert_to_tensor**.\n",
        "\n",
        "```python\n",
        "tf.constant()\n",
        "tf.constant(value, dtype=None, shape=None, name='Const', verify_shape=False)\n",
        "```\n",
        "\n",
        "- **value**: value\n",
        "- **dtype**: data type\n",
        "- **shape**: tensor shape\n",
        "- **name**: constant name\n",
        "- **verify_shape**: Boolean value, used to verify the shape of a value. The default value is False. If **verify_shape** is set to **True**, the system checks whether the shape of a value is consistent with the value of shape. If they are inconsistent, the system reports an error.\n"
      ]
    },
    {
      "cell_type": "code",
      "metadata": {
        "id": "wc-4lgr9kE_6",
        "colab": {
          "base_uri": "https://localhost:8080/",
          "height": 33
        },
        "outputId": "9d2c91c9-a17f-47d3-a30e-425d788b8425"
      },
      "source": [
        "import tensorflow as tf\n",
        "\n",
        "print(tf.__version__)"
      ],
      "execution_count": null,
      "outputs": [
        {
          "output_type": "stream",
          "text": [
            "2.3.0\n"
          ],
          "name": "stdout"
        }
      ]
    },
    {
      "cell_type": "code",
      "metadata": {
        "id": "8n0DRuBHjvW3",
        "colab": {
          "base_uri": "https://localhost:8080/",
          "height": 67
        },
        "outputId": "abb6ca1a-b28b-4686-d24b-ea09c13a3da7"
      },
      "source": [
        "# Create a 2x2 matrix with values 1, 2, 3, and 4.\n",
        "const_a = tf.constant([[1, 2, 3, 4]],shape=[2,2], dtype=tf.float32) \n",
        "const_a"
      ],
      "execution_count": null,
      "outputs": [
        {
          "output_type": "execute_result",
          "data": {
            "text/plain": [
              "<tf.Tensor: shape=(2, 2), dtype=float32, numpy=\n",
              "array([[1., 2.],\n",
              "       [3., 4.]], dtype=float32)>"
            ]
          },
          "metadata": {
            "tags": []
          },
          "execution_count": 3
        }
      ]
    },
    {
      "cell_type": "code",
      "metadata": {
        "id": "o0_5i-SikBv1",
        "colab": {
          "base_uri": "https://localhost:8080/",
          "height": 100
        },
        "outputId": "29356fef-cd2b-40a1-eb6b-cb0685451c65"
      },
      "source": [
        "#View common attributes.\n",
        "print(\"value of the constant const_a:\", const_a.numpy())\n",
        "print(\"data type of the constant const_a:\", const_a.dtype)\n",
        "print(\"shape of the constant const_a:\", const_a.shape)\n",
        "print(\"name of the device that is to generate the constant const_a:\", const_a.device)"
      ],
      "execution_count": null,
      "outputs": [
        {
          "output_type": "stream",
          "text": [
            "value of the constant const_a: [[1. 2.]\n",
            " [3. 4.]]\n",
            "data type of the constant const_a: <dtype: 'float32'>\n",
            "shape of the constant const_a: (2, 2)\n",
            "name of the device that is to generate the constant const_a: /job:localhost/replica:0/task:0/device:CPU:0\n"
          ],
          "name": "stdout"
        }
      ]
    },
    {
      "cell_type": "markdown",
      "metadata": {
        "id": "EpH0FjJakO8N"
      },
      "source": [
        "tf.zeros(), tf.zeros_like(), tf.ones(), and tf.ones_like()\n",
        "\n",
        "Usages of **tf.ones()** and **tf.ones_like()** are similar to those of **tf.zeros()** and **tf.zeros_like()**. Therefore, the following describes only the usages of **tf.ones()** and **tf.ones_like()**.\n",
        "\n",
        "Create a constant with the value 0.\n",
        "```python\n",
        "tf.zeros(shape, dtype=tf.float32, name=None)\n",
        "```\n",
        "\n",
        "- **shape**: tensor shape\n",
        "- **dtype**: data type\n",
        "- **name**: constant name\n",
        "\n",
        "\n"
      ]
    },
    {
      "cell_type": "code",
      "metadata": {
        "id": "Afe_5MEzlKxq"
      },
      "source": [
        "# Create a 2x3 matrix with all values being 0\n",
        "zeros_b = tf.zeros(shape=[2, 3], dtype=tf.int32) "
      ],
      "execution_count": null,
      "outputs": []
    },
    {
      "cell_type": "markdown",
      "metadata": {
        "id": "iLwmPZxQmD9w"
      },
      "source": [
        "Create a tensor whose value is 0 based on the input tensor, with its shape being the same as that of the input tensor. \n",
        "\n",
        "```python\n",
        "tf.zeros_like(input_tensor, dtype=None, name=None, optimize=True)\n",
        "```\n",
        "\n",
        "- **input_tensor**: tensor\n",
        "- **dtype**: data type\n",
        "- **name**: tensor name\n",
        "- **optimize**: indicates whether optimization is enabled."
      ]
    },
    {
      "cell_type": "code",
      "metadata": {
        "id": "QlaaJ9hlmtfR",
        "colab": {
          "base_uri": "https://localhost:8080/",
          "height": 67
        },
        "outputId": "d45182ae-316c-41a2-cb89-4d3ac94ce144"
      },
      "source": [
        "const_a"
      ],
      "execution_count": null,
      "outputs": [
        {
          "output_type": "execute_result",
          "data": {
            "text/plain": [
              "<tf.Tensor: shape=(2, 2), dtype=float32, numpy=\n",
              "array([[1., 2.],\n",
              "       [3., 4.]], dtype=float32)>"
            ]
          },
          "metadata": {
            "tags": []
          },
          "execution_count": 8
        }
      ]
    },
    {
      "cell_type": "code",
      "metadata": {
        "id": "aKF8mtaimooM",
        "colab": {
          "base_uri": "https://localhost:8080/",
          "height": 50
        },
        "outputId": "f5fb8f95-4817-4b00-c4d5-6cd87b803036"
      },
      "source": [
        "zeros_like_c = tf.zeros_like(const_a)\n",
        "#View generated data.\n",
        "zeros_like_c.numpy()"
      ],
      "execution_count": null,
      "outputs": [
        {
          "output_type": "execute_result",
          "data": {
            "text/plain": [
              "array([[0., 0.],\n",
              "       [0., 0.]], dtype=float32)"
            ]
          },
          "metadata": {
            "tags": []
          },
          "execution_count": 9
        }
      ]
    },
    {
      "cell_type": "markdown",
      "metadata": {
        "id": "fIS-KbUqmwh5"
      },
      "source": [
        "tf.fill()\n",
        "\n",
        "Create a tensor and fill it with a specific value. \n",
        "\n",
        "```python\n",
        "tf.fill(dims, value, name=None)\n",
        "```\n",
        "\n",
        "- **dims**: tensor shape, same as shape above.\n",
        "- **value**: tensor value\n",
        "- **name**: tensor name\n"
      ]
    },
    {
      "cell_type": "code",
      "metadata": {
        "id": "Yw9MeVT4nldi",
        "colab": {
          "base_uri": "https://localhost:8080/",
          "height": 67
        },
        "outputId": "ee95b90e-8d12-4528-bef6-50dfc2b2c47b"
      },
      "source": [
        "# Create a 2x3 matrix with all values being 8.\n",
        "fill_d = tf.fill([3,3], 8) \n",
        "#View data.\n",
        "fill_d.numpy()\n"
      ],
      "execution_count": null,
      "outputs": [
        {
          "output_type": "execute_result",
          "data": {
            "text/plain": [
              "array([[8, 8, 8],\n",
              "       [8, 8, 8],\n",
              "       [8, 8, 8]], dtype=int32)"
            ]
          },
          "metadata": {
            "tags": []
          },
          "execution_count": 10
        }
      ]
    },
    {
      "cell_type": "markdown",
      "metadata": {
        "id": "iw0YLQcLnrU9"
      },
      "source": [
        "tf.random\n",
        "\n",
        "This module is used to generate a tensor with a specific distribution. Common methods in this module include **tf.random.uniform()**, **tf.random.normal()**, and **tf.random.shuffle()**. The following describes how to use **tf.random.normal()**.\n",
        "\n",
        "Create a tensor that conforms to a normal distribution. \n",
        "\n",
        "```python\n",
        "tf.random.normal(shape, mean=0.0, stddev=1.0, dtype=tf.float32,seed=None, name=None)\n",
        "```\n",
        "\n",
        "- **shape**: data shape\n",
        "- **mean**: mean value with a Gaussian distribution\n",
        "- **stddev**: standard deviation with a Gaussian distribution\n",
        "- **dtype**: data type\n",
        "- **seed**: random seed\n",
        "- **name**: tensor name\n"
      ]
    },
    {
      "cell_type": "code",
      "metadata": {
        "id": "6Bcp2F5joC93",
        "colab": {
          "base_uri": "https://localhost:8080/",
          "height": 117
        },
        "outputId": "f71b859a-f5b2-4def-c203-eb9905e5af9b"
      },
      "source": [
        "random_e = tf.random.normal([5,5],mean=0,stddev=1.0, seed = 1)\n",
        "#View the created data.\n",
        "random_e.numpy()\n"
      ],
      "execution_count": null,
      "outputs": [
        {
          "output_type": "execute_result",
          "data": {
            "text/plain": [
              "array([[-0.8113182 ,  1.4845988 ,  0.06532937, -2.4427042 ,  0.0992484 ],\n",
              "       [ 0.5912243 ,  0.59282297, -2.1229296 , -0.72289723, -0.05627038],\n",
              "       [ 0.6435448 , -0.26432407,  1.8566332 ,  0.5678417 , -0.3828359 ],\n",
              "       [-1.4853433 ,  1.2617711 , -0.02530608, -0.2646297 ,  1.5328138 ],\n",
              "       [-1.7429771 , -0.43789294, -0.56601   ,  0.32066926,  1.132831  ]],\n",
              "      dtype=float32)"
            ]
          },
          "metadata": {
            "tags": []
          },
          "execution_count": 11
        }
      ]
    },
    {
      "cell_type": "markdown",
      "metadata": {
        "id": "vMhWccMyoJCD"
      },
      "source": [
        "Create a list object by using NumPy, and then convert the list object into a tensor by using **tf.convert_to_tensor**.\n",
        "\n",
        "This method can convert a given value into a tensor. **tf.convert_to_tensor** can be used to convert a Python data type into a tensor data type available to TensorFlow.\n",
        "\n",
        "```python\n",
        "tf.convert_to_tensor(value,dtype=None,dtype_hint=None,name=None)\n",
        "```\n",
        "\n",
        "- **value**: value to be converted\n",
        "- **dtype**: data type of the tensor\n",
        "- **dtype_hint**: optional element type for the returned tensor, used when **dtype** is set to **None**. In some cases, a caller may not consider **dtype** when calling **tf.convert_to_tensor**. Therefore, **dtype_hint** can be used as a preference.\n"
      ]
    },
    {
      "cell_type": "code",
      "metadata": {
        "id": "pA_Wdt2Qogqj",
        "colab": {
          "base_uri": "https://localhost:8080/",
          "height": 33
        },
        "outputId": "af7641cd-2d45-416b-b98d-624d6e0ed7e8"
      },
      "source": [
        "#Create a list.\n",
        "list_f = [1,2,3,4,5,6]\n",
        "#View the data type.\n",
        "type(list_f)"
      ],
      "execution_count": null,
      "outputs": [
        {
          "output_type": "execute_result",
          "data": {
            "text/plain": [
              "list"
            ]
          },
          "metadata": {
            "tags": []
          },
          "execution_count": 12
        }
      ]
    },
    {
      "cell_type": "code",
      "metadata": {
        "id": "eI1IJQsUonYC",
        "colab": {
          "base_uri": "https://localhost:8080/",
          "height": 33
        },
        "outputId": "58b05804-a2f2-4aaa-93ec-61e86afb9a10"
      },
      "source": [
        "tensor_f = tf.convert_to_tensor(list_f, dtype=tf.float32)\n",
        "tensor_f"
      ],
      "execution_count": null,
      "outputs": [
        {
          "output_type": "execute_result",
          "data": {
            "text/plain": [
              "<tf.Tensor: shape=(6,), dtype=float32, numpy=array([1., 2., 3., 4., 5., 6.], dtype=float32)>"
            ]
          },
          "metadata": {
            "tags": []
          },
          "execution_count": 13
        }
      ]
    },
    {
      "cell_type": "markdown",
      "metadata": {
        "id": "KH11Xvyeo7AF"
      },
      "source": [
        "##### 1.2.1.1.2 Creating a Variable Tensor\n"
      ]
    },
    {
      "cell_type": "markdown",
      "metadata": {
        "id": "O7mDphfXqgZo"
      },
      "source": [
        "In TensorFlow, variables are operated using the **tf.Variable** class. **tf.Variable** indicates a tensor. The value of **tf.Variable** can be changed by running an arithmetic operation on **tf.Variable**. Variable values can be read and changed.\n"
      ]
    },
    {
      "cell_type": "code",
      "metadata": {
        "id": "t_mtbAXVqsYI",
        "colab": {
          "base_uri": "https://localhost:8080/",
          "height": 67
        },
        "outputId": "a1b34bdf-7d24-42be-b86b-d842353086ae"
      },
      "source": [
        "#Create a variable. Only the initial value needs to be provided.\n",
        "var_1 = tf.Variable(tf.ones([2,3]))\n",
        "var_1"
      ],
      "execution_count": null,
      "outputs": [
        {
          "output_type": "execute_result",
          "data": {
            "text/plain": [
              "<tf.Variable 'Variable:0' shape=(2, 3) dtype=float32, numpy=\n",
              "array([[1., 1., 1.],\n",
              "       [1., 1., 1.]], dtype=float32)>"
            ]
          },
          "metadata": {
            "tags": []
          },
          "execution_count": 14
        }
      ]
    },
    {
      "cell_type": "code",
      "metadata": {
        "id": "RcrVcCfMqvya",
        "colab": {
          "base_uri": "https://localhost:8080/",
          "height": 117
        },
        "outputId": "e5069723-38ab-49e1-8766-af3794ed11aa"
      },
      "source": [
        "#Read the variable value.\n",
        "print(\"Value of the variable var_1:\",var_1.read_value())\n",
        "\n",
        "#Assign a variable value.\n",
        "var_value_1=[[1,2,3],[4,5,6]] \n",
        "var_1.assign(var_value_1)\n",
        "print(\"Value of the variable var_1 after the assignment:\",var_1.read_value())"
      ],
      "execution_count": null,
      "outputs": [
        {
          "output_type": "stream",
          "text": [
            "Value of the variable var_1: tf.Tensor(\n",
            "[[1. 1. 1.]\n",
            " [1. 1. 1.]], shape=(2, 3), dtype=float32)\n",
            "Value of the variable var_1 after the assignment: tf.Tensor(\n",
            "[[1. 2. 3.]\n",
            " [4. 5. 6.]], shape=(2, 3), dtype=float32)\n"
          ],
          "name": "stdout"
        }
      ]
    },
    {
      "cell_type": "code",
      "metadata": {
        "id": "YcQE44ACrBcp",
        "colab": {
          "base_uri": "https://localhost:8080/",
          "height": 67
        },
        "outputId": "6b2527f8-e02b-4d10-cbf8-fb8ada35b82b"
      },
      "source": [
        "#Variable addition\n",
        "var_1.assign_add(tf.ones([2,3]))\n",
        "var_1"
      ],
      "execution_count": null,
      "outputs": [
        {
          "output_type": "execute_result",
          "data": {
            "text/plain": [
              "<tf.Variable 'Variable:0' shape=(2, 3) dtype=float32, numpy=\n",
              "array([[2., 3., 4.],\n",
              "       [5., 6., 7.]], dtype=float32)>"
            ]
          },
          "metadata": {
            "tags": []
          },
          "execution_count": 16
        }
      ]
    },
    {
      "cell_type": "markdown",
      "metadata": {
        "id": "Y2jAMxwXrORF"
      },
      "source": [
        "#### 1.2.1.2 Tensor Slicing and Indexing"
      ]
    },
    {
      "cell_type": "markdown",
      "metadata": {
        "id": "KLSz6PHGrhtC"
      },
      "source": [
        "##### 1.2.1.2.1 Slicing"
      ]
    },
    {
      "cell_type": "markdown",
      "metadata": {
        "id": "ISNWMvcnrpyC"
      },
      "source": [
        "Tensor slicing methods include:\n",
        "\n",
        "- **[start: end]**: extracts a data slice from the start position to the end position of the tensor.\n",
        "- **[start:end:step]** or **[::step]**: extracts a data slice at an interval of step from the start position to the end position of the tensor.\n",
        "- **[::-1]**: slices data from the last element.\n",
        "- **'...'**: indicates a data slice of any length.\n"
      ]
    },
    {
      "cell_type": "code",
      "metadata": {
        "id": "_-DOvbDlr45R"
      },
      "source": [
        "#Create a 4-dimensional tensor. The tensor contains four images. The size of each image is 100 x 100 x 3.\n",
        "tensor_h = tf.random.normal([4,100,100,3])\n",
        "tensor_h"
      ],
      "execution_count": null,
      "outputs": []
    },
    {
      "cell_type": "code",
      "metadata": {
        "id": "ZrmckLjssFU0"
      },
      "source": [
        "#Extract the first image.\n",
        "tensor_h[0,:,:,:]\n",
        "# hint: see the shape of result "
      ],
      "execution_count": null,
      "outputs": []
    },
    {
      "cell_type": "code",
      "metadata": {
        "id": "a53emajksJs3",
        "colab": {
          "base_uri": "https://localhost:8080/",
          "height": 33
        },
        "outputId": "7cb3801d-0e4a-4d25-f157-55ec6a5ecda8"
      },
      "source": [
        "#Extract one slice at an interval of two images.\n",
        "tensor_h[::2,...]"
      ],
      "execution_count": null,
      "outputs": [
        {
          "output_type": "execute_result",
          "data": {
            "text/plain": [
              "TensorShape([2, 100, 100, 3])"
            ]
          },
          "metadata": {
            "tags": []
          },
          "execution_count": 22
        }
      ]
    },
    {
      "cell_type": "code",
      "metadata": {
        "id": "5qIHTaK5sV3G",
        "colab": {
          "base_uri": "https://localhost:8080/",
          "height": 33
        },
        "outputId": "935f60e3-73a2-44f8-feb3-172e26524291"
      },
      "source": [
        "#Slice data from the last element.\n",
        "tensor_h[::-1]"
      ],
      "execution_count": null,
      "outputs": [
        {
          "output_type": "execute_result",
          "data": {
            "text/plain": [
              "TensorShape([4, 100, 100, 3])"
            ]
          },
          "metadata": {
            "tags": []
          },
          "execution_count": 21
        }
      ]
    },
    {
      "cell_type": "markdown",
      "metadata": {
        "id": "izn3SpOJsvpX"
      },
      "source": [
        "##### 1.2.1.2.2 Indexing"
      ]
    },
    {
      "cell_type": "markdown",
      "metadata": {
        "id": "ra95hLzptaDr"
      },
      "source": [
        "The basic format of an index is **a[d1][d2][d3]**.\n"
      ]
    },
    {
      "cell_type": "code",
      "metadata": {
        "id": "l3st_nIEtfR3",
        "colab": {
          "base_uri": "https://localhost:8080/",
          "height": 33
        },
        "outputId": "354f48cb-5942-4070-dace-4b44edf4ab58"
      },
      "source": [
        "#Obtain the pixel in the position [20,40] in the second channel of the first image.\n",
        "tensor_h[0][19][39][1]"
      ],
      "execution_count": null,
      "outputs": [
        {
          "output_type": "execute_result",
          "data": {
            "text/plain": [
              "<tf.Tensor: shape=(), dtype=float32, numpy=1.7814236>"
            ]
          },
          "metadata": {
            "tags": []
          },
          "execution_count": 23
        }
      ]
    },
    {
      "cell_type": "markdown",
      "metadata": {
        "id": "c63YVYHGth5n"
      },
      "source": [
        "If the indexes of data to be extracted are nonconsecutive, **tf.gather** and **tf.gather_nd** are commonly used for data extraction in TensorFlow.\n",
        "To extract data from a particular dimension: \n",
        "\n",
        "```python\n",
        "tf.gather(params, indices,axis=None)\n",
        "```\n",
        "\n",
        "- **params**: input tensor\n",
        "- **indices**: index of the data to be extracted\n",
        "- **axis**: dimension of the data to be extracted\n",
        "\n"
      ]
    },
    {
      "cell_type": "code",
      "metadata": {
        "id": "SDrivtxcuBSi",
        "colab": {
          "base_uri": "https://localhost:8080/",
          "height": 1000
        },
        "outputId": "daaf167d-e894-45d6-e127-141ff5a1ac54"
      },
      "source": [
        "#Extract the first, second, and fourth images from tensor_h ([4,100,100,3]).\n",
        "indices = [0,1,3]\n",
        "tf.gather(tensor_h,axis=0,indices=indices,batch_dims=1)"
      ],
      "execution_count": null,
      "outputs": [
        {
          "output_type": "execute_result",
          "data": {
            "text/plain": [
              "<tf.Tensor: shape=(3, 100, 100, 3), dtype=float32, numpy=\n",
              "array([[[[ 0.32674384, -0.0766339 , -1.0805942 ],\n",
              "         [ 1.0051562 ,  0.11880254,  1.1746365 ],\n",
              "         [ 1.1302125 ,  0.9227219 ,  0.70335895],\n",
              "         ...,\n",
              "         [ 1.2145972 ,  0.8031098 , -1.2512383 ],\n",
              "         [-1.5134068 ,  0.36616752,  0.15188749],\n",
              "         [-0.12658004, -0.67423785, -0.45349342]],\n",
              "\n",
              "        [[-2.3684173 , -0.13850622, -1.4001801 ],\n",
              "         [ 1.5064147 ,  0.5186991 ,  0.6724327 ],\n",
              "         [ 1.1000955 ,  0.95226055,  0.06054516],\n",
              "         ...,\n",
              "         [ 1.3575693 , -1.4204434 , -0.6551926 ],\n",
              "         [ 2.900911  , -0.6555628 , -0.23319985],\n",
              "         [ 0.9000248 ,  0.484177  ,  0.06844627]],\n",
              "\n",
              "        [[ 0.15025865,  2.2596526 , -0.56073356],\n",
              "         [ 0.81241566, -0.4644312 , -0.00741991],\n",
              "         [ 1.6201879 , -2.5511687 ,  0.13465498],\n",
              "         ...,\n",
              "         [-1.0084683 , -0.2511998 ,  1.535799  ],\n",
              "         [-0.5749807 , -0.20904419,  0.9182491 ],\n",
              "         [-0.19500062, -1.0954205 , -0.5382607 ]],\n",
              "\n",
              "        ...,\n",
              "\n",
              "        [[-0.365383  ,  0.83116657, -0.44924286],\n",
              "         [-2.093293  , -0.01695952,  2.0348196 ],\n",
              "         [ 0.75912637,  0.9931908 , -0.08406861],\n",
              "         ...,\n",
              "         [-1.1667849 ,  0.6692346 , -0.37908566],\n",
              "         [ 0.730742  ,  1.2632134 ,  0.84311813],\n",
              "         [ 0.5620071 ,  0.37558854,  0.41524613]],\n",
              "\n",
              "        [[ 2.0258577 , -1.3855095 , -0.37441188],\n",
              "         [-0.25814947, -0.9407652 , -0.19556855],\n",
              "         [-0.60150117,  0.05433852,  0.00372895],\n",
              "         ...,\n",
              "         [ 1.5606188 ,  0.68405235, -0.06849865],\n",
              "         [ 0.9852198 ,  1.6843566 , -0.9989389 ],\n",
              "         [ 0.49364173, -0.11279973,  1.8605227 ]],\n",
              "\n",
              "        [[ 0.08996862, -0.6036804 ,  0.44645962],\n",
              "         [-0.6274011 , -0.5143727 ,  2.9871478 ],\n",
              "         [ 0.95613074, -1.2161223 ,  0.18800174],\n",
              "         ...,\n",
              "         [-0.09892546,  0.3100453 ,  0.5731736 ],\n",
              "         [ 0.13452892,  0.48178574, -0.73049057],\n",
              "         [-0.60130215, -2.3121262 ,  0.7660017 ]]],\n",
              "\n",
              "\n",
              "       [[[-0.73510617,  0.14501601,  0.46021038],\n",
              "         [-0.22483744,  0.673727  ,  0.4664908 ],\n",
              "         [-0.6885958 ,  0.80811745, -0.20376097],\n",
              "         ...,\n",
              "         [-0.10067995, -0.680662  ,  1.635995  ],\n",
              "         [ 1.4549764 , -0.03818323, -0.49845558],\n",
              "         [ 1.6640973 , -0.21248941,  0.23051961]],\n",
              "\n",
              "        [[ 0.2650443 ,  0.45600432,  1.7860866 ],\n",
              "         [ 0.75666046, -0.9724694 ,  0.8083694 ],\n",
              "         [ 0.754676  , -0.10226297,  1.2953452 ],\n",
              "         ...,\n",
              "         [ 1.4270301 , -0.599116  , -0.07779493],\n",
              "         [ 0.75464034,  0.52490395,  2.488318  ],\n",
              "         [-1.4345002 , -0.02135152,  0.10844687]],\n",
              "\n",
              "        [[ 0.6878175 ,  0.32944104, -0.92390776],\n",
              "         [-0.00674366, -0.5885901 , -0.19916847],\n",
              "         [ 1.1839081 , -0.5498039 ,  0.16224436],\n",
              "         ...,\n",
              "         [ 0.6958419 ,  0.712889  ,  1.3286377 ],\n",
              "         [-0.78009146,  0.13375951,  1.2789189 ],\n",
              "         [ 0.7843838 , -0.54308635, -1.0404861 ]],\n",
              "\n",
              "        ...,\n",
              "\n",
              "        [[ 1.8388963 ,  0.02335574,  0.05356023],\n",
              "         [-1.1854117 ,  2.2450168 ,  0.02993333],\n",
              "         [-0.3040519 ,  0.2712829 ,  0.09603941],\n",
              "         ...,\n",
              "         [ 0.11116215,  0.28475177, -1.8206888 ],\n",
              "         [ 0.53240454, -0.89877105,  1.7021344 ],\n",
              "         [ 1.8430284 ,  1.1546516 ,  0.7395007 ]],\n",
              "\n",
              "        [[-1.2502134 , -0.40226036,  1.5057604 ],\n",
              "         [-0.87520665,  0.09975979, -2.4968143 ],\n",
              "         [ 0.729066  ,  0.1359223 ,  0.9915391 ],\n",
              "         ...,\n",
              "         [-0.6328057 ,  0.4014247 , -0.8560509 ],\n",
              "         [ 0.8217519 , -0.63257694, -0.9169417 ],\n",
              "         [ 0.6898021 ,  0.26731563, -0.10569175]],\n",
              "\n",
              "        [[-1.594202  ,  0.18902628,  0.6472454 ],\n",
              "         [-2.1428137 ,  0.14495362,  0.9585851 ],\n",
              "         [ 0.84248084,  0.00599492, -2.1917865 ],\n",
              "         ...,\n",
              "         [-0.3943478 ,  0.8691863 , -0.7272976 ],\n",
              "         [-0.32123592, -0.48850068, -1.0812734 ],\n",
              "         [ 0.7285902 , -0.5031327 , -0.19051902]]],\n",
              "\n",
              "\n",
              "       [[[ 1.0666922 , -1.3219495 ,  0.21092859],\n",
              "         [ 0.16966417, -0.22676352,  0.33764717],\n",
              "         [-0.21130133, -0.1964237 ,  0.4098611 ],\n",
              "         ...,\n",
              "         [-0.13022943,  0.25971156, -0.20499077],\n",
              "         [-0.21854693, -0.37541267,  1.4808861 ],\n",
              "         [ 1.0331613 , -0.48392147,  0.8966561 ]],\n",
              "\n",
              "        [[-0.8942107 ,  0.02082027,  1.5713376 ],\n",
              "         [ 0.6247568 , -1.5469706 ,  1.8272657 ],\n",
              "         [ 2.3579817 ,  1.2209548 ,  0.79210323],\n",
              "         ...,\n",
              "         [ 1.090294  , -0.43669033, -0.87189364],\n",
              "         [-0.30762056, -0.05351565,  0.8292188 ],\n",
              "         [ 0.13472196, -1.6579295 , -0.0909829 ]],\n",
              "\n",
              "        [[ 1.3536909 , -0.54855126,  0.25799486],\n",
              "         [ 0.37918285, -0.88081294, -1.7657061 ],\n",
              "         [ 0.19008856,  0.12160202, -1.2891587 ],\n",
              "         ...,\n",
              "         [-0.07056892, -0.6338917 ,  1.9704466 ],\n",
              "         [ 0.64655936,  0.9674515 ,  0.838971  ],\n",
              "         [ 0.9840274 , -0.25629377, -0.20074475]],\n",
              "\n",
              "        ...,\n",
              "\n",
              "        [[-0.06435816,  0.22351436, -1.6014462 ],\n",
              "         [-1.7031518 ,  0.9085161 ,  0.5678363 ],\n",
              "         [-0.33798066,  0.00409855, -1.0194272 ],\n",
              "         ...,\n",
              "         [ 0.6047539 , -0.31808743,  0.19801885],\n",
              "         [ 1.3010455 ,  1.0586762 , -0.621305  ],\n",
              "         [ 0.08274156,  0.8536205 , -1.3482997 ]],\n",
              "\n",
              "        [[ 0.12616542,  1.1746912 ,  2.077124  ],\n",
              "         [ 0.5340738 , -0.6971314 ,  1.100626  ],\n",
              "         [ 0.43638903, -1.311227  ,  0.29187214],\n",
              "         ...,\n",
              "         [-0.10667333,  0.78538847, -1.3432807 ],\n",
              "         [ 0.73916185,  1.5513716 ,  1.7047056 ],\n",
              "         [ 0.6127145 , -0.21066806, -0.6426296 ]],\n",
              "\n",
              "        [[ 1.6104529 , -0.00676955, -0.4153395 ],\n",
              "         [ 0.8962517 ,  0.19679703,  0.0647286 ],\n",
              "         [-0.88634205, -0.6109124 , -0.5015266 ],\n",
              "         ...,\n",
              "         [-0.8542149 ,  0.57775295,  0.422039  ],\n",
              "         [ 0.6319761 , -0.45653388, -0.6438693 ],\n",
              "         [ 1.9669735 , -0.18093921, -0.8719031 ]]]], dtype=float32)>"
            ]
          },
          "metadata": {
            "tags": []
          },
          "execution_count": 24
        }
      ]
    },
    {
      "cell_type": "markdown",
      "metadata": {
        "id": "rfXG3otKuS39"
      },
      "source": [
        "**tf.gather_nd** allows data extraction from multiple dimensions:\n",
        "\n",
        "```python\n",
        "tf.gather_nd(params,indices)\n",
        "```\n",
        "\n",
        "- **params**: input tensor\n",
        "- **indices**: indexes of the data to be extracted, which is generally a multidimensional list."
      ]
    },
    {
      "cell_type": "code",
      "metadata": {
        "id": "ZbTa1It8ueSV",
        "colab": {
          "base_uri": "https://localhost:8080/",
          "height": 33
        },
        "outputId": "62cbb671-cf51-43df-d4e3-9dce0cc508dc"
      },
      "source": [
        "#Extract the pixel in [1,1] from the first dimension of the first image and the pixel \n",
        "# in [2,2] from the first dimension of the second image in tensot_h ([4,100,100,3]).\n",
        "indices = [[0,1,1,0],[1,2,2,0]]\n",
        "tf.gather_nd(tensor_h,indices=indices)\n"
      ],
      "execution_count": null,
      "outputs": [
        {
          "output_type": "execute_result",
          "data": {
            "text/plain": [
              "<tf.Tensor: shape=(2,), dtype=float32, numpy=array([1.5064147, 1.1839081], dtype=float32)>"
            ]
          },
          "metadata": {
            "tags": []
          },
          "execution_count": 25
        }
      ]
    },
    {
      "cell_type": "markdown",
      "metadata": {
        "id": "8JCMYak2uxnJ"
      },
      "source": [
        "#### 1.2.1.3 Tensor Dimension Modification"
      ]
    },
    {
      "cell_type": "markdown",
      "metadata": {
        "id": "JjIBfpFZu63K"
      },
      "source": [
        "##### 1.2.1.3.1 Dimension Display"
      ]
    },
    {
      "cell_type": "code",
      "metadata": {
        "id": "B9OQ0EygvALi",
        "colab": {
          "base_uri": "https://localhost:8080/",
          "height": 67
        },
        "outputId": "5abb2714-c58e-4085-f266-18fb7924a148"
      },
      "source": [
        "const_d_1 = tf.constant([[1, 2, 3, 4]],shape=[2,2], dtype=tf.float32)\n",
        "#Three common methods for displaying a dimension:\n",
        "print(const_d_1.shape)\n",
        "print(const_d_1.get_shape())\n",
        "#The output is a tensor. The value of the tensor indicates the size of the tensor dimension to be displayed.\n",
        "print(tf.shape(const_d_1))"
      ],
      "execution_count": null,
      "outputs": [
        {
          "output_type": "stream",
          "text": [
            "(2, 2)\n",
            "(2, 2)\n",
            "tf.Tensor([2 2], shape=(2,), dtype=int32)\n"
          ],
          "name": "stdout"
        }
      ]
    },
    {
      "cell_type": "markdown",
      "metadata": {
        "id": "d88p8ZSqvGa8"
      },
      "source": [
        "As described above, **.shape** and **.get_shape()** return TensorShape objects, and **tf.shape(x)** returns Tensor objects."
      ]
    },
    {
      "cell_type": "markdown",
      "metadata": {
        "id": "tkBs2_0qvP3h"
      },
      "source": [
        "##### 1.2.1.3.2 Dimension Reshaping"
      ]
    },
    {
      "cell_type": "markdown",
      "metadata": {
        "id": "dXoftw-LvaiD"
      },
      "source": [
        "```python\n",
        "tf.reshape(tensor,shape,name=None)\n",
        "```\n",
        "\n",
        "- **tensor**: input tensor\n",
        "- **shape**: dimension of the reshaped tensor\n"
      ]
    },
    {
      "cell_type": "code",
      "metadata": {
        "id": "21w8jqPFvhPy",
        "colab": {
          "base_uri": "https://localhost:8080/",
          "height": 134
        },
        "outputId": "583d587a-b460-4a8e-f25c-0af2553a6770"
      },
      "source": [
        "reshape_1 = tf.constant([[1,2,3],[4,5,6]])\n",
        "print(reshape_1)\n",
        "tf.reshape(reshape_1, (3,2))"
      ],
      "execution_count": null,
      "outputs": [
        {
          "output_type": "stream",
          "text": [
            "tf.Tensor(\n",
            "[[1 2 3]\n",
            " [4 5 6]], shape=(2, 3), dtype=int32)\n"
          ],
          "name": "stdout"
        },
        {
          "output_type": "execute_result",
          "data": {
            "text/plain": [
              "<tf.Tensor: shape=(3, 2), dtype=int32, numpy=\n",
              "array([[1, 2],\n",
              "       [3, 4],\n",
              "       [5, 6]], dtype=int32)>"
            ]
          },
          "metadata": {
            "tags": []
          },
          "execution_count": 27
        }
      ]
    },
    {
      "cell_type": "markdown",
      "metadata": {
        "id": "l176R4XLvsnJ"
      },
      "source": [
        "##### 1.2.1.3.3 Dimension Expansion"
      ]
    },
    {
      "cell_type": "markdown",
      "metadata": {
        "id": "kUTrpi5Kv7y7"
      },
      "source": [
        "```python\n",
        "tf.expand_dims(input,axis,name=None)\n",
        "```\n",
        "\n",
        "- **input**: input tensor\n",
        "- **axis**: adds a dimension after the axis dimension. When the number of dimensions of the input data is D, the axis must fall in the range of [–(D + 1), D] (included). A negative value indicates adding a dimension in reverse order.\n"
      ]
    },
    {
      "cell_type": "code",
      "metadata": {
        "id": "EGePk7ZAwAf3",
        "colab": {
          "base_uri": "https://localhost:8080/",
          "height": 84
        },
        "outputId": "a4ee836c-60f4-450b-f56f-de5fd5f04ec6"
      },
      "source": [
        "#Generate a 100 x 100 x 3 tensor to represent a 100 x 100 three-channel color image.\n",
        "expand_sample_1 = tf.random.normal([100,100,3], seed=1)\n",
        "print(\"size of the original data:\",expand_sample_1.shape)\n",
        "print(\"add a dimension before the first dimension (axis = 0): \",tf.expand_dims(expand_sample_1, axis=0).shape)\n",
        "print(\"add a dimension before the second dimension (axis = 1): \",tf.expand_dims(expand_sample_1, axis=1).shape)\n",
        "print(\"add a dimension after the last dimension (axis = –1): \",tf.expand_dims(expand_sample_1, axis=-1).shape)\n"
      ],
      "execution_count": null,
      "outputs": [
        {
          "output_type": "stream",
          "text": [
            "size of the original data: (100, 100, 3)\n",
            "add a dimension before the first dimension (axis = 0):  (1, 100, 100, 3)\n",
            "add a dimension before the second dimension (axis = 1):  (100, 1, 100, 3)\n",
            "add a dimension after the last dimension (axis = –1):  (100, 100, 3, 1)\n"
          ],
          "name": "stdout"
        }
      ]
    },
    {
      "cell_type": "markdown",
      "metadata": {
        "id": "DKENgtuDwVDb"
      },
      "source": [
        "##### 1.2.1.3.4 Dimension Squeezing"
      ]
    },
    {
      "cell_type": "markdown",
      "metadata": {
        "id": "natcVYMLwuJh"
      },
      "source": [
        "```python\n",
        "tf.squeeze(input,axis=None,name=None)\n",
        "```\n",
        "\n",
        "- **input**: input tensor\n",
        "- **axis**: If **axis** is set to 1, dimension 1 needs to be deleted.\n"
      ]
    },
    {
      "cell_type": "code",
      "metadata": {
        "id": "diJHXU94wyHG",
        "colab": {
          "base_uri": "https://localhost:8080/",
          "height": 50
        },
        "outputId": "2b6e3810-4823-452c-9603-90c2fcaf3f7d"
      },
      "source": [
        "#Generate a 100 x 100 x 3 tensor to represent a 100 x 100 three-channel color image.\n",
        "squeeze_sample_1 = tf.random.normal([1,100,100,3])\n",
        "print(\"size of the original data:\",squeeze_sample_1.shape)\n",
        "squeezed_sample_1 = tf.squeeze(expand_sample_1)\n",
        "print(\"data size after dimension squeezing:\",squeezed_sample_1.shape)"
      ],
      "execution_count": null,
      "outputs": [
        {
          "output_type": "stream",
          "text": [
            "size of the original data: (1, 100, 100, 3)\n",
            "data size after dimension squeezing: (100, 100, 3)\n"
          ],
          "name": "stdout"
        }
      ]
    },
    {
      "cell_type": "markdown",
      "metadata": {
        "id": "Srg96V4exQ4L"
      },
      "source": [
        "##### 1.2.1.3.5 Transpose"
      ]
    },
    {
      "cell_type": "markdown",
      "metadata": {
        "id": "4ZWmeQSfxXhE"
      },
      "source": [
        "```python\n",
        "tf.transpose(a,perm=None,conjugate=False,name='transpose')\n",
        "```\n",
        "\n",
        "- **a**: input tensor\n",
        "- **perm**: tensor size sequence, generally used to transpose high-dimensional arrays\n",
        "- **conjugate**: indicates complex number transpose.\n",
        "- **name**: tensor name\n"
      ]
    },
    {
      "cell_type": "code",
      "metadata": {
        "id": "DFrzXLJRxdxT",
        "colab": {
          "base_uri": "https://localhost:8080/",
          "height": 50
        },
        "outputId": "7f84512a-a5f3-4979-9e61-5f837d9766f8"
      },
      "source": [
        "#Input the tensor to be transposed, and call tf.transpose.\n",
        "trans_sample_1 = tf.constant([1,2,3,4,5,6],shape=[2,3])\n",
        "print(\"size of the original data:\",trans_sample_1.shape)\n",
        "transposed_sample_1 = tf.transpose(trans_sample_1)\n",
        "print(\"size of transposed data:\",transposed_sample_1.shape)"
      ],
      "execution_count": null,
      "outputs": [
        {
          "output_type": "stream",
          "text": [
            "size of the original data: (2, 3)\n",
            "size of transposed data: (3, 2)\n"
          ],
          "name": "stdout"
        }
      ]
    },
    {
      "cell_type": "markdown",
      "metadata": {
        "id": "GKyIpQkpxtV2"
      },
      "source": [
        "**perm** is required for high-dimensional data transpose, and indicates the dimension sequence of the input tensor.\n",
        "The original dimension sequence of a three-dimensional tensor is [0, 1, 2] (perm), indicating the length, width, and height of high-dimensional data, respectively.\n",
        "Data dimensions can be transposed by changing the sequence of values in **perm**.\n",
        "\n"
      ]
    },
    {
      "cell_type": "code",
      "metadata": {
        "id": "tvBKu_Pdx339",
        "colab": {
          "base_uri": "https://localhost:8080/",
          "height": 50
        },
        "outputId": "db1cc32f-a9be-47d5-a7a4-9c2f5c3d9d5c"
      },
      "source": [
        "#Generate an $ x 100 x 200 x 3 tensor to represent four 100 x 200 three-channel color images.\n",
        "trans_sample_2 = tf.random.normal([4,100,200,3])\n",
        "print(\"size of the original data:\",trans_sample_2.shape)\n",
        "\n",
        "#Exchange the length and width for the four images: The original perm value is [0,1,2,3], and the new perm value is [0,2,1,3].\n",
        "transposed_sample_2 = tf.transpose(trans_sample_2,[0,2,1,3])\n",
        "print(\"size of transposed data:\",transposed_sample_2.shape)\n"
      ],
      "execution_count": null,
      "outputs": [
        {
          "output_type": "stream",
          "text": [
            "size of the original data: (4, 100, 200, 3)\n",
            "size of transposed data: (4, 200, 100, 3)\n"
          ],
          "name": "stdout"
        }
      ]
    },
    {
      "cell_type": "markdown",
      "metadata": {
        "id": "SzLngBmeyJFD"
      },
      "source": [
        "##### 1.2.1.3.6 Broadcast (broadcast_to)"
      ]
    },
    {
      "cell_type": "markdown",
      "metadata": {
        "id": "asAc68gVyS9L"
      },
      "source": [
        "**broadcast_to** is used to broadcast data from a low dimension to a high dimension.\n",
        "\n",
        "```python\n",
        "tf.broadcast_to(input,shape,name=None)\n",
        "```\n",
        "\n",
        "- **input**: input tensor\n",
        "- **shape**: size of the output tensor\n"
      ]
    },
    {
      "cell_type": "code",
      "metadata": {
        "id": "-HjKraryyaus",
        "colab": {
          "base_uri": "https://localhost:8080/",
          "height": 100
        },
        "outputId": "79be35b7-479f-4f6b-d249-e17cbcc0b389"
      },
      "source": [
        "broadcast_sample_1 = tf.constant([1,2,3,4,5,6])\n",
        "print(\"original data:\",broadcast_sample_1.numpy())\n",
        "broadcasted_sample_1 = tf.broadcast_to(broadcast_sample_1,shape=[4,6])\n",
        "print(\"broadcasted data:\",broadcasted_sample_1.numpy())"
      ],
      "execution_count": null,
      "outputs": [
        {
          "output_type": "stream",
          "text": [
            "original data: [1 2 3 4 5 6]\n",
            "broadcasted data: [[1 2 3 4 5 6]\n",
            " [1 2 3 4 5 6]\n",
            " [1 2 3 4 5 6]\n",
            " [1 2 3 4 5 6]]\n"
          ],
          "name": "stdout"
        }
      ]
    },
    {
      "cell_type": "code",
      "metadata": {
        "id": "EnFH2KO7yltQ",
        "colab": {
          "base_uri": "https://localhost:8080/",
          "height": 100
        },
        "outputId": "a6e554d5-080d-4163-8fae-14ebd92a6a53"
      },
      "source": [
        "#During the operation, if two arrays have different shapes, TensorFlow automatically triggers the broadcast mechanism as NumPy does.\n",
        "a = tf.constant([[ 0, 0, 0],\n",
        "           [10,10,10],\n",
        "           [20,20,20],\n",
        "           [30,30,30]])\n",
        "b = tf.constant([1,2,3])\n",
        "print(a + b)"
      ],
      "execution_count": null,
      "outputs": [
        {
          "output_type": "stream",
          "text": [
            "tf.Tensor(\n",
            "[[ 1  2  3]\n",
            " [11 12 13]\n",
            " [21 22 23]\n",
            " [31 32 33]], shape=(4, 3), dtype=int32)\n"
          ],
          "name": "stdout"
        }
      ]
    },
    {
      "cell_type": "markdown",
      "metadata": {
        "id": "m-Z_LPskytrl"
      },
      "source": [
        "#### 1.2.1.4 Arithmetic Operations on Tensors"
      ]
    },
    {
      "cell_type": "markdown",
      "metadata": {
        "id": "IOgVIKsNy76t"
      },
      "source": [
        "##### 1.2.1.4.1 Arithmetic Operators"
      ]
    },
    {
      "cell_type": "markdown",
      "metadata": {
        "id": "8jD2xvJNzA28"
      },
      "source": [
        "Main arithmetic operations include addition (**tf.add**), subtraction (**tf.subtract**), multiplication (**tf.multiply**), division (**tf.divide**), logarithm (**tf.math.log**), and powers (**tf.pow**). The following describes only one addition example.\n"
      ]
    },
    {
      "cell_type": "code",
      "metadata": {
        "id": "2vyWv-EpzJb5"
      },
      "source": [
        "a = tf.constant([[3, 5], [4, 8]])\n",
        "b = tf.constant([[1, 6], [2, 9]])\n",
        "print(tf.add(a, b))"
      ],
      "execution_count": null,
      "outputs": []
    },
    {
      "cell_type": "markdown",
      "metadata": {
        "id": "xnMqARlBzMBw"
      },
      "source": [
        "##### 1.2.1.4.2 Matrix Multiplication"
      ]
    },
    {
      "cell_type": "markdown",
      "metadata": {
        "id": "sQ2KHf9C1Doz"
      },
      "source": [
        "Matrix multiplication is implemented by calling **tf.matmul**.\n"
      ]
    },
    {
      "cell_type": "code",
      "metadata": {
        "id": "y52RSnFn1Hl0"
      },
      "source": [
        "tf.matmul(a,b)"
      ],
      "execution_count": null,
      "outputs": []
    },
    {
      "cell_type": "markdown",
      "metadata": {
        "id": "COV72sQr1KNt"
      },
      "source": [
        "##### 1.2.1.4.3 Tensor Statistics Collection"
      ]
    },
    {
      "cell_type": "markdown",
      "metadata": {
        "id": "j-bmOAcS1Tfs"
      },
      "source": [
        "Methods for collecting tensor statistics include:\n",
        "\n",
        "- **tf.reduce_min/max/mean()**: calculates the minimum, maximum, and mean values.\n",
        "- **tf.argmax()/tf.argmin()**: calculates the positions of the maximum and minimum values.\n",
        "- **tf.equal()**: checks whether two tensors are equal by element.\n",
        "- **tf.unique()**: removes duplicate elements from tensors.\n",
        "- **tf.nn.in_top_k(prediction, target, K)**: calculates whether the predicted value is equal to the actual value, and returns a Boolean tensor.\n",
        "  - The following describes how to use **tf.argmax()**:\n",
        "  - Return the position of the maximum value.\n",
        "  - tf.argmax(input,axis):\n",
        "- **input**: input tensor\n",
        "- **axis**: maximum output value in the axis dimension\n"
      ]
    },
    {
      "cell_type": "code",
      "metadata": {
        "id": "N-FMjhA51p-h"
      },
      "source": [
        "argmax_sample_1 = tf.constant([[1,3,2],[2,5,8],[7,5,9]])\n",
        "print(\"input tensor:\",argmax_sample_1.numpy())\n",
        "max_sample_1 = tf.argmax(argmax_sample_1, axis=0)\n",
        "max_sample_2 = tf.argmax(argmax_sample_1, axis=1)\n",
        "print(\"locate the maximum value by column:\",max_sample_1.numpy())\n",
        "print(\"locate the maximum value by row:\",max_sample_2.numpy())\n"
      ],
      "execution_count": null,
      "outputs": []
    },
    {
      "cell_type": "markdown",
      "metadata": {
        "id": "Q2GrYJwn11o1"
      },
      "source": [
        "#### 1.2.1.5 Dimension-based Arithmetic Operations"
      ]
    },
    {
      "cell_type": "markdown",
      "metadata": {
        "id": "SG9FOlIA3ThL"
      },
      "source": [
        "In TensorFlow, a series of operations of **tf.reduce_*** reduce tensor dimensions. The series of operations can be performed on dimensional elements of a tensor, for example, calculating the mean value by row and calculating a product of all elements in the tensor.\n",
        "Common operations include **tf.reduce_sum** (addition), **tf.reduce_prod** (multiplication), **tf.reduce_min** (minimum), **tf.reduce_max** (maximum), **tf.reduce_mean** (mean value), **tf.reduce_all** (logical AND), **tf.reduce_any** (logical OR), and **tf.reduce_logsumexp** (log(sum(exp))).\n",
        "The methods for using these operations are similar. The following describes how to use **tf.reduce_sum**.\n",
        "Calculate the sum of elements in all dimensions of a tensor.\n",
        "\n",
        "```python\n",
        "tf.reduce_sum(input_tensor, axis=None, keepdims=False,name=None)\n",
        "```\n",
        "\n",
        "- **input_tensor**: input tensor\n",
        "- **axis**: axis to be calculated. If this parameter is not specified, the mean value of all elements is calculated.\n",
        "- **keepdims**: indicates whether to keep dimensions. If this parameter is set to **True**, the output result retains the shape of the input tensor. If this parameter is set to **False**, dimensions of the output result decrease.\n",
        "- **name**: operation name\n"
      ]
    },
    {
      "cell_type": "code",
      "metadata": {
        "id": "I4hEDxg93rkb",
        "colab": {
          "base_uri": "https://localhost:8080/",
          "height": 100
        },
        "outputId": "2f7fb1a2-a2ed-4923-bfc5-7bd3a28d1ff2"
      },
      "source": [
        "reduce_sample_1 = tf.constant([1,2,3,4,5,6],shape=[2,3])\n",
        "print(\"original data\",reduce_sample_1.numpy())\n",
        "print(\"calculate the sum of all elements in the tensor (axis = None): \",tf.reduce_sum(reduce_sample_1,axis=None).numpy())\n",
        "print(\"calculate the sum of elements in each column by column (axis = 0): \",tf.reduce_sum(reduce_sample_1,axis=0).numpy())\n",
        "print(\"calculate the sum of elements in each column by row (axis = 1): \",tf.reduce_sum(reduce_sample_1,axis=1).numpy())"
      ],
      "execution_count": null,
      "outputs": [
        {
          "output_type": "stream",
          "text": [
            "original data [[1 2 3]\n",
            " [4 5 6]]\n",
            "calculate the sum of all elements in the tensor (axis = None):  21\n",
            "calculate the sum of elements in each column by column (axis = 0):  [5 7 9]\n",
            "calculate the sum of elements in each column by row (axis = 1):  [ 6 15]\n"
          ],
          "name": "stdout"
        }
      ]
    },
    {
      "cell_type": "markdown",
      "metadata": {
        "id": "aCx6vDZ04BVo"
      },
      "source": [
        "#### 1.2.1.6 Tensor Concatenation and Splitting"
      ]
    },
    {
      "cell_type": "markdown",
      "metadata": {
        "id": "IewjP_Mv431J"
      },
      "source": [
        "##### 1.2.1.6.1 Tensor Concatenation"
      ]
    },
    {
      "cell_type": "markdown",
      "metadata": {
        "id": "hinQhlYF472a"
      },
      "source": [
        "In TensorFlow, tensor concatenation operations include:\n",
        "\n",
        "- **tf.concat()**: concatenates vectors based on the specified dimension, while keeping other dimensions unchanged.\n",
        "- **tf.stack()**: changes a group of R dimensional tensors to R+1 dimensional tensors, with the dimensions changed after the concatenation.\n",
        "\n",
        "```python\n",
        "tf.concat(values, axis, name='concat'):\n",
        "```\n",
        "\n",
        "- **values**: input tensor\n",
        "- **axis**: dimension to concatenate\n",
        "- **name**: operation name\n"
      ]
    },
    {
      "cell_type": "code",
      "metadata": {
        "id": "USOvTVsW5bFV",
        "colab": {
          "base_uri": "https://localhost:8080/",
          "height": 50
        },
        "outputId": "9320a45d-4340-42fd-e72a-2301b201ada4"
      },
      "source": [
        "concat_sample_1 = tf.random.normal([4,100,100,3])\n",
        "concat_sample_2 = tf.random.normal([40,100,100,3])\n",
        "print(\"sizes of the original data:\",concat_sample_1.shape,concat_sample_2.shape)\n",
        "concated_sample_1 = tf.concat([concat_sample_1,concat_sample_2],axis=0)\n",
        "print(\"size of the concatenated data:\",concated_sample_1.shape)"
      ],
      "execution_count": null,
      "outputs": [
        {
          "output_type": "stream",
          "text": [
            "sizes of the original data: (4, 100, 100, 3) (40, 100, 100, 3)\n",
            "size of the concatenated data: (44, 100, 100, 3)\n"
          ],
          "name": "stdout"
        }
      ]
    },
    {
      "cell_type": "markdown",
      "metadata": {
        "id": "Xw5GmHdu5rOj"
      },
      "source": [
        "A dimension can be added to an original matrix in the same way. axis determines the position of the dimension.\n",
        "\n",
        "```python\n",
        "tf.stack(values, axis=0, name='stack')\n",
        "```\n",
        "\n",
        "- **values**: input tensors, a group of tensors with the same shape and data type\n",
        "- **axis**: dimension to concatenate\n",
        "- **name**: operation name\n"
      ]
    },
    {
      "cell_type": "code",
      "metadata": {
        "id": "x1eIMcEd55Fv",
        "colab": {
          "base_uri": "https://localhost:8080/",
          "height": 50
        },
        "outputId": "4f2f2ee4-87e8-4d6a-c84f-e014cc22a42b"
      },
      "source": [
        "stack_sample_1 = tf.random.normal([100,100,3])\n",
        "stack_sample_2 = tf.random.normal([100,100,3])\n",
        "print(\"sizes of the original data: \",stack_sample_1.shape, stack_sample_2.shape)\n",
        "#Dimensions increase after the concatenation. If axis is set to 0, a dimension is added before the first dimension.\n",
        "stacked_sample_1 = tf.stack([stack_sample_1, stack_sample_2],axis=0)\n",
        "print(\"size of the concatenated data:\",stacked_sample_1.shape)"
      ],
      "execution_count": null,
      "outputs": [
        {
          "output_type": "stream",
          "text": [
            "sizes of the original data:  (100, 100, 3) (100, 100, 3)\n",
            "size of the concatenated data: (2, 100, 100, 3)\n"
          ],
          "name": "stdout"
        }
      ]
    },
    {
      "cell_type": "markdown",
      "metadata": {
        "id": "7gExJaoc6F0s"
      },
      "source": [
        "##### 1.2.1.6.2 Tensor Splitting"
      ]
    },
    {
      "cell_type": "markdown",
      "metadata": {
        "id": "0pne-Jp-6VdT"
      },
      "source": [
        "In TensorFlow, tensor splitting operations include:\n",
        "\n",
        "- **tf.unstack()**: splits a tensor by a specific dimension.\n",
        "- **tf.split()**: splits a tensor into a specified number of sub tensors based on a specific dimension. **tf.split()** is more flexible than **tf.unstack()**.\n",
        "\n",
        "```python\n",
        "tf.unstack(value,num=None,axis=0,name='unstack'):\n",
        "```\n",
        "\n",
        "- **value**: input tensor\n",
        "- **num**: indicates that a list containing num elements is output. The value of num must be the same as the number of elements in the specified dimension. This parameter can generally be ignored.\n",
        "- **axis**: specifies the dimension based on which the tensor is split.\n",
        "- **name**: operation name\n"
      ]
    },
    {
      "cell_type": "code",
      "metadata": {
        "id": "_Pj-DHgo603x",
        "colab": {
          "base_uri": "https://localhost:8080/",
          "height": 1000
        },
        "outputId": "6b25b2f9-abab-4ce4-97ad-3c2fdee06818"
      },
      "source": [
        "#Split data based on the first dimension and output the split data in a list.\n",
        "tf.unstack(stacked_sample_1,axis=0)"
      ],
      "execution_count": null,
      "outputs": [
        {
          "output_type": "execute_result",
          "data": {
            "text/plain": [
              "[<tf.Tensor: shape=(100, 100, 3), dtype=float32, numpy=\n",
              " array([[[-1.0133315 ,  0.69181544,  0.5383482 ],\n",
              "         [ 0.29377007,  1.4006099 , -0.8570871 ],\n",
              "         [ 0.25680658,  0.12417778,  0.06922213],\n",
              "         ...,\n",
              "         [ 0.99172443, -2.0592644 ,  0.6378287 ],\n",
              "         [ 0.6181454 , -0.48780182,  1.0927639 ],\n",
              "         [ 0.54143643,  0.11980407, -0.93525165]],\n",
              " \n",
              "        [[-0.14543562, -0.6615809 , -0.72904235],\n",
              "         [ 0.03855135, -0.28938434, -0.9067116 ],\n",
              "         [-0.8813679 ,  0.4625199 ,  0.02121213],\n",
              "         ...,\n",
              "         [-0.5034121 , -1.637174  ,  0.12363087],\n",
              "         [ 1.4075073 ,  1.3478662 ,  1.161333  ],\n",
              "         [ 1.2975683 , -0.8460917 , -0.6465391 ]],\n",
              " \n",
              "        [[ 0.17993098,  0.63565123,  1.6273348 ],\n",
              "         [-1.48286   ,  1.7690471 ,  0.5573973 ],\n",
              "         [-0.02501189, -1.817492  , -0.6522744 ],\n",
              "         ...,\n",
              "         [-0.84101164,  0.18459934, -0.8425787 ],\n",
              "         [-0.624018  , -0.82987726, -0.555089  ],\n",
              "         [-0.82818466, -0.34303397, -1.8217616 ]],\n",
              " \n",
              "        ...,\n",
              " \n",
              "        [[-0.9769597 , -0.6264274 ,  0.55819964],\n",
              "         [ 1.8498795 , -0.1930096 , -2.6140845 ],\n",
              "         [-0.98587674, -0.0471835 , -1.4067428 ],\n",
              "         ...,\n",
              "         [ 0.01401409,  1.2597109 , -0.927524  ],\n",
              "         [ 0.34394747, -0.21427187, -1.1877172 ],\n",
              "         [ 0.07376288,  0.0603785 , -0.6886477 ]],\n",
              " \n",
              "        [[ 0.10886548, -1.5211799 ,  2.104861  ],\n",
              "         [-0.38045114,  0.29434928,  0.35782373],\n",
              "         [ 0.08188415,  0.62065953, -0.43047413],\n",
              "         ...,\n",
              "         [ 0.43956158, -0.6233272 ,  0.6692367 ],\n",
              "         [ 0.79848105, -0.41303375,  1.7997916 ],\n",
              "         [ 0.7180976 ,  1.0213275 , -0.32718763]],\n",
              " \n",
              "        [[ 0.7974944 ,  0.25653636, -0.10771941],\n",
              "         [ 0.25015837,  0.3972884 , -1.0492206 ],\n",
              "         [-0.09521419, -0.7393408 ,  0.52417433],\n",
              "         ...,\n",
              "         [ 0.9768352 , -0.00603069, -0.5961643 ],\n",
              "         [ 0.32313207,  1.406042  , -2.5159912 ],\n",
              "         [ 0.7817648 , -1.3283904 , -1.1559608 ]]], dtype=float32)>,\n",
              " <tf.Tensor: shape=(100, 100, 3), dtype=float32, numpy=\n",
              " array([[[-0.38535303,  0.5060472 , -0.26770303],\n",
              "         [-0.19980212, -1.9132266 , -0.4501322 ],\n",
              "         [ 0.47173482, -0.82876945,  0.15804125],\n",
              "         ...,\n",
              "         [-0.46924466, -1.5306584 , -1.5318077 ],\n",
              "         [ 1.2907171 ,  1.3265691 ,  0.40829486],\n",
              "         [ 0.7609734 , -0.54572666,  0.6650787 ]],\n",
              " \n",
              "        [[ 2.6184115 ,  0.73261213, -1.8389387 ],\n",
              "         [ 1.0541232 , -0.15044606, -0.2992109 ],\n",
              "         [ 1.009146  , -0.6371628 , -1.1676198 ],\n",
              "         ...,\n",
              "         [-0.09423879, -1.2868433 , -1.7735829 ],\n",
              "         [-0.13002944, -1.8722812 , -0.02400812],\n",
              "         [ 0.19493549, -0.7841293 , -0.8252415 ]],\n",
              " \n",
              "        [[-0.3573646 , -0.55589515, -1.8205892 ],\n",
              "         [ 0.19551368,  0.6638883 ,  0.44571802],\n",
              "         [-1.2624843 , -0.35385674, -1.0699493 ],\n",
              "         ...,\n",
              "         [ 0.43128854,  0.67854625, -1.0755761 ],\n",
              "         [ 0.2338086 , -0.67410034, -0.09774406],\n",
              "         [ 0.28758547,  0.36298972,  0.6479922 ]],\n",
              " \n",
              "        ...,\n",
              " \n",
              "        [[ 1.0639086 , -0.5855669 ,  1.4846863 ],\n",
              "         [ 1.0193748 ,  1.6913338 ,  0.25795785],\n",
              "         [-0.9925907 ,  0.3379258 ,  1.9396497 ],\n",
              "         ...,\n",
              "         [-0.10158094, -0.78459436,  0.3942617 ],\n",
              "         [ 0.68531346,  0.18406752,  0.27435553],\n",
              "         [ 0.9500654 , -2.4594269 , -0.90948594]],\n",
              " \n",
              "        [[ 1.2282436 , -0.12861538, -0.9199766 ],\n",
              "         [-1.9166138 , -1.3700646 , -1.3404467 ],\n",
              "         [ 0.16340835, -0.82193124,  1.652128  ],\n",
              "         ...,\n",
              "         [-1.174804  ,  0.86425126, -0.09647343],\n",
              "         [ 0.03531574, -1.343598  ,  0.5152072 ],\n",
              "         [ 1.5030735 , -0.50251955,  1.5531331 ]],\n",
              " \n",
              "        [[-0.7492497 , -1.1163162 , -0.40988424],\n",
              "         [-1.3187947 , -0.8707152 ,  0.8408334 ],\n",
              "         [-1.1861836 ,  1.475404  , -0.83924913],\n",
              "         ...,\n",
              "         [ 0.71835196,  1.2941481 ,  1.3447306 ],\n",
              "         [-0.05275905, -0.927772  , -0.50450677],\n",
              "         [ 0.6517469 ,  0.3999258 , -1.0387774 ]]], dtype=float32)>]"
            ]
          },
          "metadata": {
            "tags": []
          },
          "execution_count": 44
        }
      ]
    },
    {
      "cell_type": "markdown",
      "metadata": {
        "id": "wp3XQlfD64y9"
      },
      "source": [
        "```python\n",
        "tf.split(value, num_or_size_splits, axis=0):\n",
        "```\n",
        "\n",
        "- **value**: input tensor\n",
        "- **num_or_size_splits**: number of sub tensors\n",
        "- **axis**: specifies the dimension based on which the tensor is split. **tf.split()** splits a tensor in either of the following ways:\n",
        "  - If the value of **num_or_size_splits** is an integer, the tensor is evenly split into sub tensors in the specified dimension (axis = D).\n",
        "  - If the value of **num_or_size_splits** is a vector, the tensor is split into sub tensors based on the element value of the vector in the specified dimension (axis = D).\n"
      ]
    },
    {
      "cell_type": "code",
      "metadata": {
        "id": "WVQorbZc7WXi",
        "colab": {
          "base_uri": "https://localhost:8080/",
          "height": 67
        },
        "outputId": "a2a22572-806d-4418-a275-254d22194841"
      },
      "source": [
        "import numpy as np\n",
        "split_sample_1 = tf.random.normal([10,100,100,3])\n",
        "print(\"size of the original data:\",split_sample_1.shape)\n",
        "splited_sample_1 = tf.split(split_sample_1, num_or_size_splits=5,axis=0)\n",
        "print(\"size of the split data when m_or_size_splits is set to 10: \",np.shape(splited_sample_1))\n",
        "splited_sample_2 = tf.split(split_sample_1, num_or_size_splits=[3,5,2],axis=0)\n",
        "print(\"sizes of the split data when num_or_size_splits is set to [3,5,2]:\",np.shape(splited_sample_2[0]),np.shape(splited_sample_2[1]),np.shape(splited_sample_2[2]))\n"
      ],
      "execution_count": null,
      "outputs": [
        {
          "output_type": "stream",
          "text": [
            "size of the original data: (10, 100, 100, 3)\n",
            "size of the split data when m_or_size_splits is set to 10:  (5, 2, 100, 100, 3)\n",
            "sizes of the split data when num_or_size_splits is set to [3,5,2]: (3, 100, 100, 3) (5, 100, 100, 3) (2, 100, 100, 3)\n"
          ],
          "name": "stdout"
        }
      ]
    },
    {
      "cell_type": "markdown",
      "metadata": {
        "id": "ki59k9-h7aHa"
      },
      "source": [
        "#### 1.2.1.7 Tensor Sorting"
      ]
    },
    {
      "cell_type": "markdown",
      "metadata": {
        "id": "a8o3tUP88AZF"
      },
      "source": [
        "In TensorFlow, tensor sorting operations include:\n",
        "\n",
        "- **tf.sort()**: sorts tensors in ascending or descending order and returns the sorted tensors.\n",
        "- **tf.argsort()**: sorts tensors in ascending or descending order, and returns tensor indexes.\n",
        "- **tf.nn.top_k()**: returns the first k maximum values.\n",
        "\n",
        "```python\n",
        "tf.sort/argsort(input, direction, axis)\n",
        "```\n",
        "\n",
        "- **input**: input tensor\n",
        "- **direction**: sorting order, which can be set to **DESCENDING** (descending order) or **ASCENDING** (ascending order). The default value is **ASCENDING**.\n",
        "- **axis**: sorting by the dimension specified by axis. The default value of axis is –1, indicating the last dimension.\n"
      ]
    },
    {
      "cell_type": "code",
      "metadata": {
        "id": "7MQTqGwl8ge2",
        "colab": {
          "base_uri": "https://localhost:8080/",
          "height": 67
        },
        "outputId": "3626d251-bacd-4f8d-f92a-325dd33a5c30"
      },
      "source": [
        "sort_sample_1 = tf.random.shuffle(tf.range(10))\n",
        "print(\"input tensor:\",sort_sample_1.numpy())\n",
        "sorted_sample_1 = tf.sort(sort_sample_1, direction=\"ASCENDING\")\n",
        "print(\"tensor sorted in ascending order:\",sorted_sample_1.numpy())\n",
        "sorted_sample_2 = tf.argsort(sort_sample_1,direction=\"ASCENDING\")\n",
        "print(\"indexes of elements in ascending order:\",sorted_sample_2.numpy())"
      ],
      "execution_count": null,
      "outputs": [
        {
          "output_type": "stream",
          "text": [
            "input tensor: [0 5 9 7 2 3 6 1 8 4]\n",
            "tensor sorted in ascending order: [0 1 2 3 4 5 6 7 8 9]\n",
            "indexes of elements in ascending order: [0 7 4 5 9 1 6 3 8 2]\n"
          ],
          "name": "stdout"
        }
      ]
    },
    {
      "cell_type": "markdown",
      "metadata": {
        "id": "xKjH8b9r8lWp"
      },
      "source": [
        "```python\n",
        "tf.nn.top_k(input,K,sorted=TRUE):\n",
        "```\n",
        "\n",
        "- **input**: input tensor\n",
        "- **K**: the first k values to be output and their indexes\n",
        "- **sorted**: When **sorted** is set to **TRUE**, the tensor is sorted in ascending order. When **sorted** is set to **FALSE**, the tensor is sorted in descending order.\n",
        "  - Return two tensors:\n",
        "    - **values**: k maximum values in each row\n",
        "    - **indices**: positions of elements in the last dimension of the input tensor\n"
      ]
    },
    {
      "cell_type": "code",
      "metadata": {
        "id": "OMnnmVdZ8z2p",
        "colab": {
          "base_uri": "https://localhost:8080/",
          "height": 67
        },
        "outputId": "9b980e6a-5124-4956-ffac-8e352055a29b"
      },
      "source": [
        "values, index = tf.nn.top_k(sort_sample_1,5)\n",
        "print(\"input tensor:\",sort_sample_1.numpy())\n",
        "print(\"first five values in ascending order:\", values.numpy())\n",
        "print(\"indexes of the first five values in ascending order:\", index.numpy())"
      ],
      "execution_count": null,
      "outputs": [
        {
          "output_type": "stream",
          "text": [
            "input tensor: [0 5 9 7 2 3 6 1 8 4]\n",
            "first five values in ascending order: [9 8 7 6 5]\n",
            "indexes of the first five values in ascending order: [2 8 3 6 1]\n"
          ],
          "name": "stdout"
        }
      ]
    },
    {
      "cell_type": "markdown",
      "metadata": {
        "id": "i0oBmU5j9S9g"
      },
      "source": [
        "### 1.2.2 Eager Execution of TensorFlow 2.x"
      ]
    },
    {
      "cell_type": "markdown",
      "metadata": {
        "id": "RvOm2QyU-ZNz"
      },
      "source": [
        "Eager execution mode:\n",
        "\n",
        "> The eager execution mode of TensorFlow is a type of imperative programming, which is the same as native Python. When you perform a particular operation, the system immediately returns a result.\n",
        "\n",
        "Graph mode:\n",
        "\n",
        "> TensorFlow 1.0 adopts the graph mode to first build a computational graph, enable a session, and then feed actual data to obtain a result.\n",
        "\n",
        "\n",
        "In eager execution mode, code debugging is easier, but the code execution efficiency is lower. The following implements simple multiplication by using TensorFlow to compare the differences between the eager execution mode and the graph mode.\n"
      ]
    },
    {
      "cell_type": "code",
      "metadata": {
        "id": "hSCx2wVN-kbR",
        "colab": {
          "base_uri": "https://localhost:8080/",
          "height": 67
        },
        "outputId": "66497292-fddb-46e4-c102-6238a49efd5a"
      },
      "source": [
        "x = tf.ones((2, 2), dtype=tf.dtypes.float32)\n",
        "y = tf.constant([[1, 2],\n",
        "                 [3, 4]], dtype=tf.dtypes.float32)\n",
        "z = tf.matmul(x, y)\n",
        "print(z)"
      ],
      "execution_count": null,
      "outputs": [
        {
          "output_type": "stream",
          "text": [
            "tf.Tensor(\n",
            "[[4. 6.]\n",
            " [4. 6.]], shape=(2, 2), dtype=float32)\n"
          ],
          "name": "stdout"
        }
      ]
    },
    {
      "cell_type": "code",
      "metadata": {
        "id": "rK4yjYQu-mq3",
        "colab": {
          "base_uri": "https://localhost:8080/",
          "height": 50
        },
        "outputId": "84be23e9-1960-4a6c-8b71-e03b96fee40c"
      },
      "source": [
        "#Use the syntax of TensorFlow 1.x in TensorFlow 2.x. \n",
        "# You can install the v1 compatibility package in TensorFlow 2.0 to \n",
        "# inherit the TensorFlow 1.x code and disable the eager execution mode.\n",
        "\n",
        "import tensorflow.compat.v1 as tf\n",
        "tf.disable_eager_execution()\n",
        "#Create a graph and define it as a computational graph.\n",
        "a = tf.ones((2, 2), dtype=tf.dtypes.float32)\n",
        "b = tf.constant([[1, 2],\n",
        "                 [3, 4]], dtype=tf.dtypes.float32)\n",
        "c = tf.matmul(a, b)\n",
        "#Enable the drawing function, and perform the multiplication operation to obtain data.\n",
        "with tf.Session() as sess:\n",
        "    print(sess.run(c))"
      ],
      "execution_count": null,
      "outputs": [
        {
          "output_type": "stream",
          "text": [
            "[[4. 6.]\n",
            " [4. 6.]]\n"
          ],
          "name": "stdout"
        }
      ]
    },
    {
      "cell_type": "markdown",
      "metadata": {
        "id": "9g5RwnRD-wXv"
      },
      "source": [
        "**Restart the kernel to restore TensorFlow 2.0** and enable the eager execution mode. Another advantage of the eager execution mode lies in availability of native Python functions, for example, the following condition statement:\n"
      ]
    },
    {
      "cell_type": "code",
      "metadata": {
        "id": "70Q1N4kp_CsY",
        "colab": {
          "base_uri": "https://localhost:8080/",
          "height": 33
        },
        "outputId": "791add88-67c3-43c6-d7e4-47be0a73d987"
      },
      "source": [
        "import tensorflow as tf\n",
        "\n",
        "thre_1 = tf.random.uniform([],0,1)\n",
        "x = tf.reshape(tf.range(0, 4), [2, 2])\n",
        "print(thre_1)\n",
        "\n",
        "if thre_1.numpy() > 0.5:\n",
        "    y = tf.matmul(x, x)\n",
        "else:\n",
        "    y = tf.add(x, x)\n"
      ],
      "execution_count": null,
      "outputs": [
        {
          "output_type": "stream",
          "text": [
            "tf.Tensor(0.075457454, shape=(), dtype=float32)\n"
          ],
          "name": "stdout"
        }
      ]
    },
    {
      "cell_type": "markdown",
      "metadata": {
        "id": "BYTHGlsX_Iz6"
      },
      "source": [
        "With the eager execution mode, this dynamic control flow can generate a NumPy value extractable by a tensor, without using operators such as **tf.cond** and **tf.while** provided in graph mode.\n"
      ]
    },
    {
      "cell_type": "markdown",
      "metadata": {
        "id": "j3bJW1c4_fN2"
      },
      "source": [
        "### 1.2.3 AutoGraph of TensorFlow 2.x"
      ]
    },
    {
      "cell_type": "markdown",
      "metadata": {
        "id": "NXGMPYNCBWdp"
      },
      "source": [
        "When used to comment out a function, the decorator **tf.function** can be called like any other function. **tf.function** will be compiled into a graph, so that it can run more efficiently on a GPU or TPU. In this case, the function becomes an operation in TensorFlow. The function can be directly called to output a return value. However, the function is executed in graph mode and intermediate variable values cannot be directly viewed.\n"
      ]
    },
    {
      "cell_type": "code",
      "metadata": {
        "id": "vvB1n6-dBdeR",
        "colab": {
          "base_uri": "https://localhost:8080/",
          "height": 100
        },
        "outputId": "efd731ce-2b2f-436a-f3e2-a87f341e9588"
      },
      "source": [
        "@tf.function\n",
        "def simple_nn_layer(w,x,b):\n",
        "    print(b)\n",
        "    return tf.nn.relu(tf.matmul(w, x)+b)\n",
        " \n",
        "w = tf.random.uniform((3, 3))\n",
        "x = tf.random.uniform((3, 3))\n",
        "b = tf.constant(0.5, dtype='float32')\n",
        " \n",
        "simple_nn_layer(w,x,b)"
      ],
      "execution_count": null,
      "outputs": [
        {
          "output_type": "stream",
          "text": [
            "Tensor(\"b:0\", shape=(), dtype=float32)\n"
          ],
          "name": "stdout"
        },
        {
          "output_type": "execute_result",
          "data": {
            "text/plain": [
              "<tf.Tensor: shape=(3, 3), dtype=float32, numpy=\n",
              "array([[0.9897576, 1.32495  , 1.1061215],\n",
              "       [1.2283347, 1.2863779, 1.2812262],\n",
              "       [1.2245167, 1.2584676, 1.2405984]], dtype=float32)>"
            ]
          },
          "metadata": {
            "tags": []
          },
          "execution_count": 2
        }
      ]
    },
    {
      "cell_type": "markdown",
      "metadata": {
        "id": "3yHFW58BBwL4"
      },
      "source": [
        "According to the output result, the value of **b in the function cannot be viewed directly**, but the return value can be viewed using .numpy().\n",
        "The following compares the performance of the graph mode and eager execution mode by performing the same operation (computation of one CNN layer).\n"
      ]
    },
    {
      "cell_type": "code",
      "metadata": {
        "id": "KDkEqxP9CCML",
        "colab": {
          "base_uri": "https://localhost:8080/",
          "height": 50
        },
        "outputId": "c4cc8228-d466-48e0-c9d2-a4be02dbee3a"
      },
      "source": [
        "#Use the timeit module to measure the execution time of a small code segment.\n",
        "import timeit\n",
        "\n",
        "#Create a convolutional layer.\n",
        "CNN_cell = tf.keras.layers.Conv2D(filters=100,kernel_size=2,strides=(1,1))\n",
        " \n",
        "#Use @tf.function to convert the operation into a graph.\n",
        "@tf.function\n",
        "def CNN_fn(image):\n",
        "    return CNN_cell(image)\n",
        " \n",
        "image = tf.zeros([100, 200, 200, 3])\n",
        " \n",
        "#Compare the execution time of the two modes.\n",
        "CNN_cell(image)\n",
        "CNN_fn(image)\n",
        "#Call timeit.timeit to measure the time required for executing the code 10 times.\n",
        "print(\"time required for performing the computation of one convolutional neural network (CNN) layer in eager execution mode:\", timeit.timeit(lambda: CNN_cell(image), number=10))\n",
        "print(\"time required for performing the computation of one CNN layer in graph mode:\", timeit.timeit(lambda: CNN_fn(image), number=10))\n"
      ],
      "execution_count": null,
      "outputs": [
        {
          "output_type": "stream",
          "text": [
            "time required for performing the computation of one convolutional neural network (CNN) layer in eager execution mode: 10.87489011999969\n",
            "time required for performing the computation of one CNN layer in graph mode: 7.9776171029998295\n"
          ],
          "name": "stdout"
        }
      ]
    },
    {
      "cell_type": "markdown",
      "metadata": {
        "id": "SODLOLa1CQgv"
      },
      "source": [
        "The comparison shows that the code execution efficiency in graph mode is much higher. Therefore, the **@tf.function** function can be used to improve the code execution efficiency.\n"
      ]
    }
  ]
}
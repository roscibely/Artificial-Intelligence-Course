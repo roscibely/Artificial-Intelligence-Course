{
  "nbformat": 4,
  "nbformat_minor": 0,
  "metadata": {
    "colab": {
      "name": "Deep Learning Overview Experiment Guide - Parte 03.ipynb",
      "provenance": [],
      "include_colab_link": true
    },
    "kernelspec": {
      "name": "python3",
      "display_name": "Python 3"
    },
    "accelerator": "GPU"
  },
  "cells": [
    {
      "cell_type": "markdown",
      "metadata": {
        "id": "view-in-github",
        "colab_type": "text"
      },
      "source": [
        "<a href=\"https://colab.research.google.com/github/roscibely/Artificial-Intelligence-Course/blob/main/Deep_Learning_Overview_Experiment_Guide_Parte_03.ipynb\" target=\"_parent\"><img src=\"https://colab.research.google.com/assets/colab-badge.svg\" alt=\"Open In Colab\"/></a>"
      ]
    },
    {
      "cell_type": "markdown",
      "metadata": {
        "id": "NDKiIQ2-dC6i"
      },
      "source": [
        "# Description\n",
        "\n"
      ]
    },
    {
      "cell_type": "markdown",
      "metadata": {
        "id": "NItAvDYWd3dp"
      },
      "source": [
        "This experiment guide introduces the following four experiments:\n",
        "\n",
        "- **Experiment 1**: TensorFlow basics\n",
        "  - This experiment mainly describes the basic syntax of TensorFlow 2.\n",
        "- **Experiment 2**: common modules of TensorFlow 2\n",
        "  - This experiment mainly introduces Keras interfaces.\n",
        "- **Experiment 3**: handwritten text recognition\n",
        "  - This experiment uses basic code to help learners understand how to implement handwritten text recognition through TensorFlow 2.0.\n",
        "- **Experiment 4**: Image Classification\n",
        "  - This experiment is based on how to use TensorFlow 2 and python packages to predict image categories from CIFAR10 image classification dataset. It is hoped that trainees or readers can get started with deep learning and have the basic programming capability of implementing image recognition models.\n"
      ]
    },
    {
      "cell_type": "markdown",
      "metadata": {
        "id": "d1MMieMHU0_t"
      },
      "source": [
        "# 3.0 Handwritten Digit Recognition with TensorFlow"
      ]
    },
    {
      "cell_type": "markdown",
      "metadata": {
        "id": "00hK13XddBZg"
      },
      "source": [
        "## 3.1 Introduction"
      ]
    },
    {
      "cell_type": "markdown",
      "metadata": {
        "id": "HH5X-3BYc3kw"
      },
      "source": [
        "Handwritten digit recognition is a common image recognition task where computers recognize text in handwriting images. Different from printed fonts, handwriting of different people has different sizes and styles, making it difficult for computers to recognize handwriting.\n",
        "\n",
        "\n",
        "This chapter describes the basic process of TensorFlow computing and basic elements for building a network.\n"
      ]
    },
    {
      "cell_type": "markdown",
      "metadata": {
        "id": "O2vxN-xqc9zP"
      },
      "source": [
        "## 3.2 Objectives"
      ]
    },
    {
      "cell_type": "markdown",
      "metadata": {
        "id": "oozpqZi4dLGP"
      },
      "source": [
        "Upon completion of this task, you will be able to:\n",
        "\n",
        "- Master the basic process of TensorFlow computing.\n",
        "- Be familiar with the basic elements of network building, including dataset, network model building, model training, and model validation.\n"
      ]
    },
    {
      "cell_type": "markdown",
      "metadata": {
        "id": "APEJU7LMdOQa"
      },
      "source": [
        "## 3.3 Experiment Steps"
      ]
    },
    {
      "cell_type": "markdown",
      "metadata": {
        "id": "1F9D7QyQdS7v"
      },
      "source": [
        "This experiment involves the following steps:\n",
        "\n",
        "- Reading the MNIST handwritten digit dataset.\n",
        "- Getting started with TensorFlow by using simple mathematical models.\n",
        "- Implementing softmax regression by using high-level APIs.\n",
        "- Building a multi-layer CNN.\n",
        "- Implementing a CNN by using high-level APIs.\n",
        "- Visualizing prediction results.\n"
      ]
    },
    {
      "cell_type": "markdown",
      "metadata": {
        "id": "BGXNMxfgdYtX"
      },
      "source": [
        "### 3.3.1 Project Description and Dataset Acquistion"
      ]
    },
    {
      "cell_type": "markdown",
      "metadata": {
        "id": "cFvokP3gdlcA"
      },
      "source": [
        "#### 3.3.1.1 Description"
      ]
    },
    {
      "cell_type": "markdown",
      "metadata": {
        "id": "5cm-nHtudpKg"
      },
      "source": [
        "This project applies deep learning and TensorFlow tools to train and build models based on the MNIST handwriting dataset."
      ]
    },
    {
      "cell_type": "markdown",
      "metadata": {
        "id": "TFxiDdbmdtp5"
      },
      "source": [
        "#### 3.3.1.2 Data Acquisition and Processing\n"
      ]
    },
    {
      "cell_type": "markdown",
      "metadata": {
        "id": "pFprZnjNd3aL"
      },
      "source": [
        "###### 3.3.1.2.1 About the Dataset"
      ]
    },
    {
      "cell_type": "markdown",
      "metadata": {
        "id": "UI2zeZV4d8vl"
      },
      "source": [
        "The MNIST dataset is provided by the National Institute of Standards and Technology (NIST).\n",
        "\n",
        "The dataset consists of handwritten digits from 250 individuals, of which 50% are high school students and 50% are staff from Bureau of the Census.\n",
        "\n",
        "You can download the dataset from http://yann.lecun.com/exdb/mnist/, which consists of the following parts:\n",
        "- Training set images: train-images-idx3-ubyte.gz (9.9 MB, 47 MB after decompression, including 60,000 samples)\n",
        "- Training set labels: train-labels-idx1-ubyte.gz (29 KB, 60 KB after decompression, including 60,000 labels)\n",
        "- Test set images: t10k-images-idx3-ubyte.gz (1.6 MB, 7.8 MB after decompression, including 10,000 samples)\n",
        "- Test set labels: t10k-labels-idx1-ubyte.gz (5 KB, 10 KB after decompression, including 10,000 labels).\n",
        "\n",
        "The MNIST dataset is an entry-level computer vision dataset that contains images of various handwritten digits.\n",
        "\n",
        "\n",
        "<center><img width=\"400\" src=\"https://drive.google.com/uc?export=view&id=16KpkD34ULrfb0tEY-OP5d6Viay4WSKQm\"></center>\n",
        "\n",
        "It also contains one label for each image, to clarify the correct digit. For example, the labels for the preceding four images are 5, 0, 4, and 1.\n",
        "\n"
      ]
    },
    {
      "cell_type": "markdown",
      "metadata": {
        "id": "ZSU1mU1xeIZI"
      },
      "source": [
        "##### 3.3.1.2.2 MNIST Dataset Reading"
      ]
    },
    {
      "cell_type": "markdown",
      "metadata": {
        "id": "t2kHUWFchf6i"
      },
      "source": [
        "Download the MNIST dataset directly from the official TensorFlow website and decompress it."
      ]
    },
    {
      "cell_type": "code",
      "metadata": {
        "id": "1SdXFBDNhkmx",
        "colab": {
          "base_uri": "https://localhost:8080/",
          "height": 84
        },
        "outputId": "4d87af50-bee5-4422-a351-72ccfd5a704c"
      },
      "source": [
        "import os\n",
        "import tensorflow as tf\n",
        "from tensorflow import keras\n",
        "from tensorflow.keras import layers, optimizers, datasets\n",
        "from matplotlib import pyplot as plt\n",
        "import numpy as np\n",
        " \n",
        "(x_train_raw, y_train_raw), (x_test_raw, y_test_raw) = datasets.mnist.load_data() \n",
        " \n",
        "print(y_train_raw[0])\n",
        "print(x_train_raw.shape, y_train_raw.shape)\n",
        "print(x_test_raw.shape, y_test_raw.shape)\n",
        " \n",
        "#Convert the labels into one-hot codes.\n",
        "num_classes = 10\n",
        "\n",
        "y_train = keras.utils.to_categorical(y_train_raw, num_classes)\n",
        "y_test = keras.utils.to_categorical(y_test_raw, num_classes)\n",
        "\n",
        "print(y_train[0])"
      ],
      "execution_count": null,
      "outputs": [
        {
          "output_type": "stream",
          "text": [
            "5\n",
            "(60000, 28, 28) (60000,)\n",
            "(10000, 28, 28) (10000,)\n",
            "[0. 0. 0. 0. 0. 1. 0. 0. 0. 0.]\n"
          ],
          "name": "stdout"
        }
      ]
    },
    {
      "cell_type": "markdown",
      "metadata": {
        "id": "vXZIcEGNhrO6"
      },
      "source": [
        "In the MNIST dataset, the images are a tensor in the shape of [60000, 28, 28]. The first dimension is used to extract images, and the second and third dimensions are used to extract pixels in each image. Each element in this tensor indicates the strength of a pixel in an image. The value ranges from **0** to **255**.\n",
        "\n",
        "\n",
        "Label data is one-hot vectors. In a one-hot vector, one digit is 1, and digits in other dimensions are all 0s. For example, label 1 may be represented as [0,1,0,0,0,0,0,0,0,0,0,0]. Therefore, the labels are a digital matrix of [60000, 10].\n"
      ]
    },
    {
      "cell_type": "markdown",
      "metadata": {
        "id": "p9K26j1yhxfu"
      },
      "source": [
        "### 3.3.2 Dataset Preprocessing and Visualization"
      ]
    },
    {
      "cell_type": "markdown",
      "metadata": {
        "id": "nQaoitYLigEb"
      },
      "source": [
        "#### 3.3.2.1 Data Visualization"
      ]
    },
    {
      "cell_type": "markdown",
      "metadata": {
        "id": "dB1WgvOiim32"
      },
      "source": [
        "Draw the first nine images."
      ]
    },
    {
      "cell_type": "code",
      "metadata": {
        "id": "PvwskWoDipgN",
        "colab": {
          "base_uri": "https://localhost:8080/",
          "height": 248
        },
        "outputId": "266b1f42-740d-4f98-d277-6ba5b52c03d4"
      },
      "source": [
        "plt.figure()\n",
        "for i in range(9):\n",
        "    plt.subplot(3,3,i+1)\n",
        "    plt.imshow(x_train_raw[i])\n",
        "    #plt.ylabel(y[i].numpy())\n",
        "    plt.axis('off')\n",
        "plt.show()"
      ],
      "execution_count": null,
      "outputs": [
        {
          "output_type": "display_data",
          "data": {
            "image/png": "[encoded data removed]",
            "text/plain": [
              "<Figure size 432x288 with 9 Axes>"
            ]
          },
          "metadata": {
            "tags": [],
            "needs_background": "light"
          }
        }
      ]
    },
    {
      "cell_type": "markdown",
      "metadata": {
        "id": "IsbmsTvYiuPa"
      },
      "source": [
        "#### 3.3.2.2 Data Preprocessing"
      ]
    },
    {
      "cell_type": "markdown",
      "metadata": {
        "id": "XbJ-i-W6i2zc"
      },
      "source": [
        "An output of a fully connected network must be in the form of vector, instead of the matrix form of the current images. Therefore, you need to sort the images into vectors."
      ]
    },
    {
      "cell_type": "code",
      "metadata": {
        "id": "m1XCOS04i5cd"
      },
      "source": [
        "#Convert a 28 x 28 image into a 784 x 1 vector.\n",
        "x_train = x_train_raw.reshape(60000, 784)\n",
        "x_test = x_test_raw.reshape(10000, 784)"
      ],
      "execution_count": null,
      "outputs": []
    },
    {
      "cell_type": "markdown",
      "metadata": {
        "id": "rUWVCpLGi8re"
      },
      "source": [
        "### 3.3.3 DNN Construction"
      ]
    },
    {
      "cell_type": "markdown",
      "metadata": {
        "id": "Ns3p4AaNjAnM"
      },
      "source": [
        "#### 3.3.3.1 Building a DNN Model"
      ]
    },
    {
      "cell_type": "code",
      "metadata": {
        "id": "zhCHVmT_jErp",
        "colab": {
          "base_uri": "https://localhost:8080/",
          "height": 284
        },
        "outputId": "3b0f0f2a-efce-4804-c206-85f6688529ae"
      },
      "source": [
        "#Create a deep neural network (DNN) model that consists of three fully connected layers and two RELU activation functions.\n",
        "model = keras.Sequential([ \n",
        "    layers.Dense(512, activation='relu', input_dim = 784),\n",
        "    layers.Dense(256, activation='relu'),\n",
        "    layers.Dense(124, activation='relu'),\n",
        "layers.Dense(num_classes, activation='softmax')])\n",
        " \n",
        "model.summary()"
      ],
      "execution_count": null,
      "outputs": [
        {
          "output_type": "stream",
          "text": [
            "Model: \"sequential_3\"\n",
            "_________________________________________________________________\n",
            "Layer (type)                 Output Shape              Param #   \n",
            "=================================================================\n",
            "dense_15 (Dense)             (None, 512)               401920    \n",
            "_________________________________________________________________\n",
            "dense_16 (Dense)             (None, 256)               131328    \n",
            "_________________________________________________________________\n",
            "dense_17 (Dense)             (None, 124)               31868     \n",
            "_________________________________________________________________\n",
            "dense_18 (Dense)             (None, 10)                1250      \n",
            "=================================================================\n",
            "Total params: 566,366\n",
            "Trainable params: 566,366\n",
            "Non-trainable params: 0\n",
            "_________________________________________________________________\n"
          ],
          "name": "stdout"
        }
      ]
    },
    {
      "cell_type": "markdown",
      "metadata": {
        "id": "kRs5HGFCjHbG"
      },
      "source": [
        "**layer.Dense()** indicates a fully connected layer, and activation indicates a used activation function."
      ]
    },
    {
      "cell_type": "markdown",
      "metadata": {
        "id": "bzLEA7MkjYJt"
      },
      "source": [
        "#### 3.3.3.2 Compiling the DNN Model"
      ]
    },
    {
      "cell_type": "code",
      "metadata": {
        "id": "wjU0kUlAjdyr"
      },
      "source": [
        "Optimizer = optimizers.Adam(0.001)\n",
        "model.compile(loss=keras.losses.categorical_crossentropy,\n",
        "              optimizer=Optimizer,\n",
        "              metrics=['accuracy'])"
      ],
      "execution_count": null,
      "outputs": []
    },
    {
      "cell_type": "markdown",
      "metadata": {
        "id": "jg9X7b7YjgVV"
      },
      "source": [
        "In the preceding example, the loss function of the model is cross entropy, and the optimization algorithm is the **Adam** gradient descent method."
      ]
    },
    {
      "cell_type": "markdown",
      "metadata": {
        "id": "g2eK7Y5Wjjv4"
      },
      "source": [
        "#### 3.3.3.3 Training the DNN Model"
      ]
    },
    {
      "cell_type": "code",
      "metadata": {
        "id": "IriBUiV5jrBK",
        "colab": {
          "base_uri": "https://localhost:8080/",
          "height": 368
        },
        "outputId": "6a4c125f-8b9d-44a0-d6dd-67443c948fe1"
      },
      "source": [
        "#Fit the training data to the model by using the fit method.\n",
        "model.fit(x_train, y_train,\n",
        "          batch_size=128,\n",
        "          epochs=10,\n",
        "          verbose=1)"
      ],
      "execution_count": null,
      "outputs": [
        {
          "output_type": "stream",
          "text": [
            "Epoch 1/10\n",
            "469/469 [==============================] - 5s 11ms/step - loss: 1.4973 - accuracy: 0.8928\n",
            "Epoch 2/10\n",
            "469/469 [==============================] - 5s 11ms/step - loss: 0.1930 - accuracy: 0.9531\n",
            "Epoch 3/10\n",
            "469/469 [==============================] - 5s 11ms/step - loss: 0.1167 - accuracy: 0.9668\n",
            "Epoch 4/10\n",
            "469/469 [==============================] - 5s 11ms/step - loss: 0.0959 - accuracy: 0.9732\n",
            "Epoch 5/10\n",
            "469/469 [==============================] - 5s 11ms/step - loss: 0.0838 - accuracy: 0.9754\n",
            "Epoch 6/10\n",
            "469/469 [==============================] - 5s 11ms/step - loss: 0.0749 - accuracy: 0.9786\n",
            "Epoch 7/10\n",
            "469/469 [==============================] - 5s 11ms/step - loss: 0.0839 - accuracy: 0.9774\n",
            "Epoch 8/10\n",
            "469/469 [==============================] - 5s 11ms/step - loss: 0.0686 - accuracy: 0.9802\n",
            "Epoch 9/10\n",
            "469/469 [==============================] - 5s 11ms/step - loss: 0.0784 - accuracy: 0.9785\n",
            "Epoch 10/10\n",
            "469/469 [==============================] - 5s 11ms/step - loss: 0.0628 - accuracy: 0.9821\n"
          ],
          "name": "stdout"
        },
        {
          "output_type": "execute_result",
          "data": {
            "text/plain": [
              "<tensorflow.python.keras.callbacks.History at 0x7f9bdb27dba8>"
            ]
          },
          "metadata": {
            "tags": []
          },
          "execution_count": 31
        }
      ]
    },
    {
      "cell_type": "markdown",
      "metadata": {
        "id": "_F0At_sqjtCe"
      },
      "source": [
        "**Epoch** indicates a specific round of training. In the preceding example, full data is iterated for 10 times."
      ]
    },
    {
      "cell_type": "markdown",
      "metadata": {
        "id": "LJw_i9vUjxnx"
      },
      "source": [
        "#### 3.3.3.4 Evaluating the DNN Model"
      ]
    },
    {
      "cell_type": "code",
      "metadata": {
        "id": "lc0RZKnYj16a",
        "colab": {
          "base_uri": "https://localhost:8080/",
          "height": 50
        },
        "outputId": "a7a57320-b69a-461d-90f5-273a6b9bd322"
      },
      "source": [
        "score = model.evaluate(x_test, y_test, verbose=0)\n",
        "print('Test loss:', score[0])\n",
        "print('Test accuracy:', score[1])"
      ],
      "execution_count": null,
      "outputs": [
        {
          "output_type": "stream",
          "text": [
            "Test loss: 0.15934695303440094\n",
            "Test accuracy: 0.9686999917030334\n"
          ],
          "name": "stdout"
        }
      ]
    },
    {
      "cell_type": "markdown",
      "metadata": {
        "id": "ttODq55Xj6X4"
      },
      "source": [
        "The evaluation shows that the model accuracy reaches 0.87, and 10 training iterations have been performed."
      ]
    },
    {
      "cell_type": "markdown",
      "metadata": {
        "id": "aiKjFvw0j_KY"
      },
      "source": [
        "#### 3.3.3.5 Saving the DNN Model"
      ]
    },
    {
      "cell_type": "code",
      "metadata": {
        "id": "9vFVlrnIkFUS"
      },
      "source": [
        "model.save('final_DNN_model.h5')"
      ],
      "execution_count": null,
      "outputs": []
    },
    {
      "cell_type": "markdown",
      "metadata": {
        "id": "irnxoeTAkIBa"
      },
      "source": [
        "### 3.3.4 CNN Construction"
      ]
    },
    {
      "cell_type": "markdown",
      "metadata": {
        "id": "yWaZWZmEkQCb"
      },
      "source": [
        "The conventional CNN construction method helps you better understand the internal network structure but has a large code volume. Therefore, attempts to construct a CNN by using high-level APIs are made to simplify the network construction process."
      ]
    },
    {
      "cell_type": "markdown",
      "metadata": {
        "id": "4bdlMqpwkS0F"
      },
      "source": [
        "#### 3.3.4.1 Building a CNN Model\n"
      ]
    },
    {
      "cell_type": "code",
      "metadata": {
        "id": "VNHfE15IkXWo"
      },
      "source": [
        "import tensorflow as tf\n",
        "from tensorflow import keras\n",
        "import numpy as np\n",
        " \n",
        "model=keras.Sequential() #Create a network sequence.\n",
        "##Add the first convolutional layer and pooling layer.\n",
        "model.add(keras.layers.Conv2D(filters=32,kernel_size = 5,strides = (1,1),\n",
        "                              padding = 'same',activation = tf.nn.relu,input_shape = (28,28,1)))\n",
        "model.add(keras.layers.MaxPool2D(pool_size=(2,2), strides = (2,2), padding = 'valid'))\n",
        "##Add the second convolutional layer and pooling layer.\n",
        "model.add(keras.layers.Conv2D(filters=64,kernel_size = 3,strides = (1,1),padding = 'same',activation = tf.nn.relu))\n",
        "model.add(keras.layers.MaxPool2D(pool_size=(2,2), strides = (2,2), padding = 'valid'))\n",
        "##Add a dropout layer to reduce overfitting.\n",
        "model.add(keras.layers.Dropout(0.25))\n",
        "model.add(keras.layers.Flatten())\n",
        "##Add two fully connected layers.\n",
        "model.add(keras.layers.Dense(units=128,activation = tf.nn.relu))\n",
        "model.add(keras.layers.Dropout(0.5))\n",
        "model.add(keras.layers.Dense(units=10,activation = tf.nn.softmax))"
      ],
      "execution_count": null,
      "outputs": []
    },
    {
      "cell_type": "markdown",
      "metadata": {
        "id": "iCoPE-ZhkZZK"
      },
      "source": [
        "In the preceding network, two convolutional layers and two pooling layers are first added by using **keras.layers**. Afterwards, a dropout layer is added to prevent overfitting. Finally, two fully connected layers are added.\n"
      ]
    },
    {
      "cell_type": "markdown",
      "metadata": {
        "id": "3tOu74U1khwb"
      },
      "source": [
        "#### 3.3.4.2 Compiling and Training the CNN Model\n"
      ]
    },
    {
      "cell_type": "code",
      "metadata": {
        "id": "EMmTFbh7kmEm",
        "colab": {
          "base_uri": "https://localhost:8080/",
          "height": 201
        },
        "outputId": "08f5045d-3ef8-4cb5-9a12-01ada94cd570"
      },
      "source": [
        "#Expand data dimensions to adapt to the CNN model.\n",
        "X_train=x_train.reshape(60000,28,28,1)\n",
        "X_test=x_test.reshape(10000,28,28,1)\n",
        "model.compile(optimizer=\"adam\",loss=\"categorical_crossentropy\",metrics=['accuracy']) \n",
        "model.fit(x=X_train,y=y_train,epochs=5,batch_size=128)"
      ],
      "execution_count": null,
      "outputs": [
        {
          "output_type": "stream",
          "text": [
            "Epoch 1/5\n",
            "469/469 [==============================] - 71s 151ms/step - loss: 0.8464 - accuracy: 0.8162\n",
            "Epoch 2/5\n",
            "469/469 [==============================] - 70s 150ms/step - loss: 0.1823 - accuracy: 0.9460\n",
            "Epoch 3/5\n",
            "469/469 [==============================] - 70s 149ms/step - loss: 0.1327 - accuracy: 0.9618\n",
            "Epoch 4/5\n",
            "469/469 [==============================] - 70s 150ms/step - loss: 0.1045 - accuracy: 0.9694\n",
            "Epoch 5/5\n",
            "469/469 [==============================] - 70s 150ms/step - loss: 0.0932 - accuracy: 0.9738\n"
          ],
          "name": "stdout"
        },
        {
          "output_type": "execute_result",
          "data": {
            "text/plain": [
              "<tensorflow.python.keras.callbacks.History at 0x7f9bdf069f60>"
            ]
          },
          "metadata": {
            "tags": []
          },
          "execution_count": 36
        }
      ]
    },
    {
      "cell_type": "markdown",
      "metadata": {
        "id": "2xsC5Tvmkoa9"
      },
      "source": [
        "During training, the network training data is iterated for only five times. You can increase the number of network iterations to check the effect."
      ]
    },
    {
      "cell_type": "markdown",
      "metadata": {
        "id": "ycw_elkMlQQB"
      },
      "source": [
        "#### 3.3.4.3 Evaluating the CNN Model"
      ]
    },
    {
      "cell_type": "code",
      "metadata": {
        "id": "cmZ-qWAqlmwm",
        "colab": {
          "base_uri": "https://localhost:8080/",
          "height": 50
        },
        "outputId": "96107a5a-c5be-4970-f4ae-257645a78d33"
      },
      "source": [
        "test_loss,test_acc=model.evaluate(x=X_test,y=y_test)\n",
        "print(\"Test Accuracy %.2f\"%test_acc)"
      ],
      "execution_count": null,
      "outputs": [
        {
          "output_type": "stream",
          "text": [
            "313/313 [==============================] - 4s 13ms/step - loss: 0.0431 - accuracy: 0.9872\n",
            "Test Accuracy 0.99\n"
          ],
          "name": "stdout"
        }
      ]
    },
    {
      "cell_type": "markdown",
      "metadata": {
        "id": "grsgZ_GNlvDF"
      },
      "source": [
        "The verification shows that accuracy of the CNN model reaches up to 99%."
      ]
    },
    {
      "cell_type": "markdown",
      "metadata": {
        "id": "f7OTCsGDl0_8"
      },
      "source": [
        "#### 3.3.4.4 Saving the CNN Model"
      ]
    },
    {
      "cell_type": "code",
      "metadata": {
        "id": "j9XrEkp7mA7X",
        "colab": {
          "base_uri": "https://localhost:8080/",
          "height": 50
        },
        "outputId": "57ed05cc-d33f-45e6-bc74-e796073dbc89"
      },
      "source": [
        "test_loss,test_acc=model.evaluate(x=X_test,y=y_test)\n",
        "print(\"Test Accuracy %.2f\"%test_acc)"
      ],
      "execution_count": null,
      "outputs": [
        {
          "output_type": "stream",
          "text": [
            "313/313 [==============================] - 4s 13ms/step - loss: 0.0431 - accuracy: 0.9872\n",
            "Test Accuracy 0.99\n"
          ],
          "name": "stdout"
        }
      ]
    },
    {
      "cell_type": "code",
      "metadata": {
        "id": "zGyooYjPnDJ3"
      },
      "source": [
        "model.save('final_CNN_model.h5')"
      ],
      "execution_count": null,
      "outputs": []
    },
    {
      "cell_type": "markdown",
      "metadata": {
        "id": "LARez3u6mL2J"
      },
      "source": [
        "### 3.3.5 Prediction Result Visualization"
      ]
    },
    {
      "cell_type": "markdown",
      "metadata": {
        "id": "ncvk7QDYmPIN"
      },
      "source": [
        "#### 3.3.5.1 Loading the CNN Model"
      ]
    },
    {
      "cell_type": "code",
      "metadata": {
        "id": "geRvljoHmTXE",
        "colab": {
          "base_uri": "https://localhost:8080/",
          "height": 452
        },
        "outputId": "f7781ef8-341d-40e7-8e87-86e508cd3c73"
      },
      "source": [
        "from tensorflow.keras.models import load_model\n",
        "new_model = load_model('final_CNN_model.h5')\n",
        "new_model.summary()"
      ],
      "execution_count": null,
      "outputs": [
        {
          "output_type": "stream",
          "text": [
            "Model: \"sequential_4\"\n",
            "_________________________________________________________________\n",
            "Layer (type)                 Output Shape              Param #   \n",
            "=================================================================\n",
            "conv2d_1 (Conv2D)            (None, 28, 28, 32)        832       \n",
            "_________________________________________________________________\n",
            "max_pooling2d_1 (MaxPooling2 (None, 14, 14, 32)        0         \n",
            "_________________________________________________________________\n",
            "conv2d_2 (Conv2D)            (None, 14, 14, 64)        18496     \n",
            "_________________________________________________________________\n",
            "max_pooling2d_2 (MaxPooling2 (None, 7, 7, 64)          0         \n",
            "_________________________________________________________________\n",
            "dropout (Dropout)            (None, 7, 7, 64)          0         \n",
            "_________________________________________________________________\n",
            "flatten (Flatten)            (None, 3136)              0         \n",
            "_________________________________________________________________\n",
            "dense_19 (Dense)             (None, 128)               401536    \n",
            "_________________________________________________________________\n",
            "dropout_1 (Dropout)          (None, 128)               0         \n",
            "_________________________________________________________________\n",
            "dense_20 (Dense)             (None, 10)                1290      \n",
            "=================================================================\n",
            "Total params: 422,154\n",
            "Trainable params: 422,154\n",
            "Non-trainable params: 0\n",
            "_________________________________________________________________\n"
          ],
          "name": "stdout"
        }
      ]
    },
    {
      "cell_type": "markdown",
      "metadata": {
        "id": "jzK1dG8AmyWa"
      },
      "source": [
        "Visualize prediction results."
      ]
    },
    {
      "cell_type": "code",
      "metadata": {
        "id": "__pSFDG7nQU4",
        "colab": {
          "base_uri": "https://localhost:8080/",
          "height": 418
        },
        "outputId": "db36fc5f-6e45-4517-eb3e-e7fb88bfeb5a"
      },
      "source": [
        "#Visualize test set output results.\n",
        "import matplotlib.pyplot as plt\n",
        "%matplotlib inline\n",
        "def res_Visual(n):\n",
        "    final_opt_a=new_model.predict_classes(X_test[0:n])#Perform predictions on the test set by using the model.\n",
        "    fig, ax = plt.subplots(nrows=int(n/5),ncols=5 )\n",
        "    ax = ax.flatten()\n",
        "    print('prediction results of the first {} images:'.format(n))\n",
        "    for i in range(n):\n",
        "        print(final_opt_a[i],end=',')\n",
        "        if int((i+1)%5) ==0:\n",
        "            print('\\t')\n",
        "        #Visualize image display.\n",
        "        img = X_test[i].reshape((28,28))#Read each row of data in the format of Ndarry.\n",
        "        plt.axis(\"off\")\n",
        "        ax[i].imshow(img, cmap='Greys', interpolation='nearest')#Visualization\n",
        "        ax[i].axis(\"off\")\n",
        "    print('first {} images in the test set:'.format(n))\n",
        "res_Visual(20)\n"
      ],
      "execution_count": null,
      "outputs": [
        {
          "output_type": "stream",
          "text": [
            "WARNING:tensorflow:From <ipython-input-47-4e7a93a51173>:5: Sequential.predict_classes (from tensorflow.python.keras.engine.sequential) is deprecated and will be removed after 2021-01-01.\n",
            "Instructions for updating:\n",
            "Please use instead:* `np.argmax(model.predict(x), axis=-1)`,   if your model does multi-class classification   (e.g. if it uses a `softmax` last-layer activation).* `(model.predict(x) > 0.5).astype(\"int32\")`,   if your model does binary classification   (e.g. if it uses a `sigmoid` last-layer activation).\n",
            "prediction results of the first 20 images:\n",
            "7,2,1,0,4,\t\n",
            "1,4,9,5,9,\t\n",
            "0,6,9,0,1,\t\n",
            "5,9,7,3,4,\t\n",
            "first 20 images in the test set:\n"
          ],
          "name": "stdout"
        },
        {
          "output_type": "display_data",
          "data": {
            "image/png": "[encoded data removed]",
            "text/plain": [
              "<Figure size 432x288 with 20 Axes>"
            ]
          },
          "metadata": {
            "tags": [],
            "needs_background": "light"
          }
        }
      ]
    }
  ]
}
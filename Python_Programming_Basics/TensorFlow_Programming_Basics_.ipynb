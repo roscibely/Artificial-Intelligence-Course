{
  "nbformat": 4,
  "nbformat_minor": 0,
  "metadata": {
    "colab": {
      "name": "TensorFlow Programming Basics .ipynb",
      "provenance": [],
      "authorship_tag": "ABX9TyMqsQ/S7/dY7AUSS2AEhlcE",
      "include_colab_link": true
    },
    "kernelspec": {
      "name": "python3",
      "display_name": "Python 3"
    }
  },
  "cells": [
    {
      "cell_type": "markdown",
      "metadata": {
        "id": "view-in-github",
        "colab_type": "text"
      },
      "source": [
        "<a href=\"https://colab.research.google.com/github/roscibely/Huawei-HCIA/blob/main/tree/main/Python_Programming_Basics/TensorFlow_Programming_Basics_.ipynb\" target=\"_parent\"><img src=\"https://colab.research.google.com/assets/colab-badge.svg\" alt=\"Open In Colab\"/></a>"
      ]
    },
    {
      "cell_type": "markdown",
      "metadata": {
        "id": "-ct7TBi22V17"
      },
      "source": [
        "# TensorFlow Programming Basics"
      ]
    },
    {
      "cell_type": "code",
      "metadata": {
        "id": "KLHJ9Aeq2BSh",
        "outputId": "2f0ababd-8a55-4ffb-c28d-9b6ec486ace3",
        "colab": {
          "base_uri": "https://localhost:8080/"
        }
      },
      "source": [
        "#TF version 1\n",
        "import tensorflow.compat.v1 as tf\n",
        "tf.disable_v2_behavior()\n",
        "\n",
        "hello=tf.constant('Hello, Tensorflow!') #Define a constant\n",
        "\n",
        "sess=tf.Session() #Creat a session\n",
        "print(sess.run(hello)) #run the comand to get the result\n",
        "sess.close()"
      ],
      "execution_count": 27,
      "outputs": [
        {
          "output_type": "stream",
          "text": [
            "b'Hello, Tensorflow!'\n"
          ],
          "name": "stdout"
        }
      ]
    },
    {
      "cell_type": "code",
      "metadata": {
        "id": "YVtixHJj8voh",
        "outputId": "db5cc622-ea62-41b1-fd30-b300928956cd",
        "colab": {
          "base_uri": "https://localhost:8080/"
        }
      },
      "source": [
        "#TF version 2 \n",
        "import tensorflow as tf\n",
        "\n",
        "hello = tf.constant('Hello, TensorFlow!')\n",
        "tf.print(hello)"
      ],
      "execution_count": 9,
      "outputs": [
        {
          "output_type": "execute_result",
          "data": {
            "text/plain": [
              "<tf.Operation 'PrintV2_2' type=PrintV2>"
            ]
          },
          "metadata": {
            "tags": []
          },
          "execution_count": 9
        }
      ]
    },
    {
      "cell_type": "code",
      "metadata": {
        "id": "ZRhJRCP29L8k",
        "outputId": "6be89d8d-51db-4110-e002-5b42cbce607b",
        "colab": {
          "base_uri": "https://localhost:8080/"
        }
      },
      "source": [
        "import tensorflow.compat.v1 as tf\n",
        "\n",
        "a=tf.constant(3)\n",
        "b=tf.constant(4) \n",
        "\n",
        "with tf.Session() as sess:\n",
        "  print(\"Add: %i\" %sess.run(a+b))\n",
        "  print(\"Multiply: %i\" %sess.run(a*b))\n",
        "sess.close()"
      ],
      "execution_count": 23,
      "outputs": [
        {
          "output_type": "stream",
          "text": [
            "Add: 7\n",
            "Multiply: 12\n"
          ],
          "name": "stdout"
        }
      ]
    },
    {
      "cell_type": "markdown",
      "metadata": {
        "id": "NC13TGgXCWwl"
      },
      "source": [
        "# Creating matrix variable"
      ]
    },
    {
      "cell_type": "code",
      "metadata": {
        "id": "26sCxs9hCaAW",
        "outputId": "291ac62a-4c34-4f9b-c0ad-30ad93db14e7",
        "colab": {
          "base_uri": "https://localhost:8080/"
        }
      },
      "source": [
        "import tensorflow.compat.v1 as tf\n",
        "tf.disable_v2_behavior()\n",
        "\n",
        "sess=tf.InteractiveSession()\n",
        "\n",
        "#Create two matrix variable w1 and w2 \n",
        "w1 = tf.Variable(tf.random_normal([2,3],mean=1.0,stddev=1.0))\n",
        "w2 = tf.Variable(tf.random_normal([3,1],mean=1.0,stddev=1.0))\n",
        "\n",
        "x=tf.constant([[0.7,0.9]])\n",
        "\n",
        "tf.global_variables_initializer().run()\n",
        "\n",
        "a=tf.matmul(x,w1) #multiply matrixes x*w1\n",
        "y=tf.matmul(a,w2)\n",
        "print(y.eval())\n",
        "\n",
        "sess.close()"
      ],
      "execution_count": 30,
      "outputs": [
        {
          "output_type": "stream",
          "text": [
            "[[2.8160675]]\n"
          ],
          "name": "stdout"
        },
        {
          "output_type": "stream",
          "text": [
            "/usr/local/lib/python3.6/dist-packages/tensorflow/python/client/session.py:1751: UserWarning: An interactive session is already active. This can cause out-of-memory errors in some cases. You must explicitly call `InteractiveSession.close()` to release resources held by the other session(s).\n",
            "  warnings.warn('An interactive session is already active. This can '\n"
          ],
          "name": "stderr"
        }
      ]
    },
    {
      "cell_type": "markdown",
      "metadata": {
        "id": "dyRtfgFGQ2YP"
      },
      "source": [
        "# Visualization of TensorBoard "
      ]
    },
    {
      "cell_type": "code",
      "metadata": {
        "id": "ujorHz8wQ_37",
        "outputId": "ede536de-6573-4d68-b29d-6e7aae334c5e",
        "colab": {
          "base_uri": "https://localhost:8080/",
          "height": 265
        }
      },
      "source": [
        "import tensorflow.compat.v1 as tf \n",
        "import numpy as np\n",
        "import matplotlib.pyplot as plt\n",
        "\n",
        "plotdata={\"batchsize\":[], \"loss\":[]}\n",
        "\n",
        "def moving_average(a,w=10):\n",
        "  if len(a)<w:\n",
        "    return a[:]\n",
        "  return [val if idx<w else sum(a[(idx-w):idx])/w for idx, val in enumerate(a)]\n",
        "\n",
        "\n",
        "#Generating Analog data \n",
        "train_X=np.linspace(-1,1,100)\n",
        "train_Y=2*train_X+np.random.randn(*train_X.shape)*0.3 #y=2x with noise\n",
        "\n",
        "#Display the graph \n",
        "plt.plot(train_X,train_Y, 'ro', label='Original data')\n",
        "plt.legend()\n",
        "plt.show()\n",
        "\n",
        "tf.reset_default_graph()"
      ],
      "execution_count": 38,
      "outputs": [
        {
          "output_type": "display_data",
          "data": {
            "image/png": "[encoded data removed]",
            "text/plain": [
              "<Figure size 432x288 with 1 Axes>"
            ]
          },
          "metadata": {
            "tags": [],
            "needs_background": "light"
          }
        }
      ]
    },
    {
      "cell_type": "code",
      "metadata": {
        "id": "8yXSG73ySctP",
        "outputId": "0a2c9a58-340f-4a2a-c5ee-4cdbb5e75000",
        "colab": {
          "base_uri": "https://localhost:8080/"
        }
      },
      "source": [
        "#Creat a model \n",
        "\n",
        "#Placeholders \n",
        "X=tf.placeholder(\"float\")\n",
        "Y=tf.placeholder(\"float\")\n",
        "\n",
        "#Model parameters \n",
        "W=tf.Variable(tf.random_normal([1]), name=\"weight\")\n",
        "b=tf.Variable(tf.zeros([1]), name=\"bias\")\n",
        "\n",
        "#Creating a forward struture \n",
        "z=tf.multiply(X,W) + b #z=x*W +b\n",
        "tf.summary.histogram('z',z) #Display predicted values in a histogram\n",
        "\n"
      ],
      "execution_count": 39,
      "outputs": [
        {
          "output_type": "execute_result",
          "data": {
            "text/plain": [
              "<tf.Tensor 'z:0' shape=() dtype=string>"
            ]
          },
          "metadata": {
            "tags": []
          },
          "execution_count": 39
        }
      ]
    },
    {
      "cell_type": "code",
      "metadata": {
        "id": "WNofwrZLTmF9"
      },
      "source": [
        "#Reverse Optimization \n",
        "cost=tf.reduce_mean(tf.square(Y-z))\n",
        "tf.summary.scalar('loss_function', cost)\n",
        "learning_rate=0.01\n",
        "#Gradient descent\n",
        "optimizer = tf.train.GradientDescentOptimizer(learning_rate).minimize(cost)"
      ],
      "execution_count": 41,
      "outputs": []
    },
    {
      "cell_type": "code",
      "metadata": {
        "id": "cGabnIMlUEgs"
      },
      "source": [
        "#Initialize variables\n",
        "\n",
        "init=tf.global_variables_initializer()\n",
        "\n",
        "#Set parameters\n",
        "training_epochs=20\n",
        "display_step=2"
      ],
      "execution_count": 42,
      "outputs": []
    },
    {
      "cell_type": "code",
      "metadata": {
        "id": "57vuRWVDUQI3",
        "outputId": "dae1afc9-3618-49bc-e7b3-5ad481a86229",
        "colab": {
          "base_uri": "https://localhost:8080/",
          "height": 469
        }
      },
      "source": [
        "#Starting a session \n",
        "\n",
        "with tf.Session() as sess:\n",
        "  sess.run(init)\n",
        "#Merge all sumaries \n",
        "  merged_summary_op=tf.summary.merge_all()\n",
        "  summary_writer=tf.summary.FileWriter('log/mnist_with_summaries',sess.graph)\n",
        "  #Write data to the model \n",
        "  for epoch in range(training_epochs):\n",
        "    for (x,y) in zip(train_X,train_Y):\n",
        "      sess.run(optimizer,feed_dict={X:x,Y:y})\n",
        "      #Generate summary \n",
        "      summary_str=sess.run(merged_summary_op,feed_dict={X:x,Y:y})\n",
        "      summary_writer.add_summary(summary_str,epoch)\n",
        "    if epoch % display_step==0:\n",
        "      loss=sess.run(cost,feed_dict={X:train_X,Y:train_Y})\n",
        "      print(\"Epoch:\", epoch+1, \"cost:\", loss)\n",
        "      if not(loss==\"NA\"):\n",
        "        plotdata[\"batchsize\"].append(epoch)\n",
        "        plotdata[\"loss\"].append(loss)\n",
        "\n",
        "  print(\"Finished!\")\n",
        "  plt.plot(train_X,train_Y,'ro',label='Original data')\n",
        "  plt.plot(train_X,sess.run(W)*train_X+sess.run(b), label='Fitted line')\n",
        "  print(\"cost:\", cost.eval({X:train_X,Y:train_Y}))"
      ],
      "execution_count": 46,
      "outputs": [
        {
          "output_type": "stream",
          "text": [
            "Epoch: 1 cost: 0.13412409\n",
            "Epoch: 3 cost: 0.0943047\n",
            "Epoch: 5 cost: 0.0914513\n",
            "Epoch: 7 cost: 0.09141066\n",
            "Epoch: 9 cost: 0.09144772\n",
            "Epoch: 11 cost: 0.091460474\n",
            "Epoch: 13 cost: 0.091463976\n",
            "Epoch: 15 cost: 0.0914649\n",
            "Epoch: 17 cost: 0.09146514\n",
            "Epoch: 19 cost: 0.09146521\n",
            "Finished!\n",
            "cost: 0.09146524\n"
          ],
          "name": "stdout"
        },
        {
          "output_type": "display_data",
          "data": {
            "image/png": "[encoded data removed]",
            "text/plain": [
              "<Figure size 432x288 with 1 Axes>"
            ]
          },
          "metadata": {
            "tags": [],
            "needs_background": "light"
          }
        }
      ]
    },
    {
      "cell_type": "code",
      "metadata": {
        "id": "E8XONqSCXiF-",
        "outputId": "d2ed3feb-5665-4a7f-82ad-98bcf78068d4",
        "colab": {
          "base_uri": "https://localhost:8080/",
          "height": 162
        }
      },
      "source": [
        "plotdata[\"avgloss\"]=moving_average(plotdata[\"loss\"])\n",
        "plt.figure(1)\n",
        "plt.subplot(211)\n",
        "plt.plot(plotdata[\"batchsize\"],plotdata[\"avgloss\"], 'b--')\n",
        "plt.xlabel('Minibatch number')\n",
        "plt.ylabel('Loss')\n",
        "\n",
        "plt.show()"
      ],
      "execution_count": 52,
      "outputs": [
        {
          "output_type": "display_data",
          "data": {
            "image/png": "[encoded data removed]",
            "text/plain": [
              "<Figure size 432x288 with 1 Axes>"
            ]
          },
          "metadata": {
            "tags": [],
            "needs_background": "light"
          }
        }
      ]
    }
  ]
}

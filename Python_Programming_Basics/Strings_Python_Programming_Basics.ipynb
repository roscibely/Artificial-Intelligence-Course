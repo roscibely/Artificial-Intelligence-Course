{
  "nbformat": 4,
  "nbformat_minor": 0,
  "metadata": {
    "colab": {
      "name": "Strings  Python Programming Basics.ipynb",
      "provenance": [],
      "authorship_tag": "ABX9TyOEP2WyyAxd2zWLH+YC4wxX",
      "include_colab_link": true
    },
    "kernelspec": {
      "name": "python3",
      "display_name": "Python 3"
    }
  },
  "cells": [
    {
      "cell_type": "markdown",
      "metadata": {
        "id": "view-in-github",
        "colab_type": "text"
      },
      "source": [
        "<a href=\"https://colab.research.google.com/github/roscibely/Huawei-HCIA/blob/main/tree/main/Python_Programming_Basics/Strings_Python_Programming_Basics.ipynb\" target=\"_parent\"><img src=\"https://colab.research.google.com/assets/colab-badge.svg\" alt=\"Open In Colab\"/></a>"
      ]
    },
    {
      "cell_type": "markdown",
      "metadata": {
        "id": "VB_1l9ghTvvu"
      },
      "source": [
        "1. Strings \n",
        "\n",
        "This experiment mainly introduces related knowledge units about strings in Python. \n",
        "\n",
        "1.1 Objectives\n",
        "\n",
        "- Understand meanings of Python strings. \n",
        "- Grasp related operations on Python strings. \n",
        " "
      ]
    },
    {
      "cell_type": "markdown",
      "metadata": {
        "id": "-jT44DPuUOOP"
      },
      "source": [
        "Strings of Python. A string is a sequence composed of zero or multiple characters "
      ]
    },
    {
      "cell_type": "code",
      "metadata": {
        "id": "sfpzjrcMPJ72",
        "outputId": "3628592d-73b9-4e37-b102-dba39c3f8378",
        "colab": {
          "base_uri": "https://localhost:8080/"
        }
      },
      "source": [
        "#creating a string\n",
        "s='This is a Python string'\n",
        "print(s)\n",
        "\n",
        "#or\n",
        "ss=\"This is a Python string\"\n",
        "print(ss) "
      ],
      "execution_count": 2,
      "outputs": [
        {
          "output_type": "stream",
          "text": [
            "This is a Python string\n",
            "This is a Python string\n"
          ],
          "name": "stdout"
        }
      ]
    },
    {
      "cell_type": "markdown",
      "metadata": {
        "id": "aMwG-6mgU1I8"
      },
      "source": [
        "1.2 Original strings \n",
        "\n",
        "Original strings start with r, and you can input any character in original strings. "
      ]
    },
    {
      "cell_type": "code",
      "metadata": {
        "id": "NA4fRonrVBT1",
        "outputId": "cef64557-7820-42b4-dd2e-0adcc6ed24da",
        "colab": {
          "base_uri": "https://localhost:8080/"
        }
      },
      "source": [
        "rawStr= r'D:\\SVN_CODE'\n",
        "print(rawStr)"
      ],
      "execution_count": 3,
      "outputs": [
        {
          "output_type": "stream",
          "text": [
            "D:\\SVN_CODE\n"
          ],
          "name": "stdout"
        }
      ]
    },
    {
      "cell_type": "markdown",
      "metadata": {
        "id": "ipGK5Vg3WWcs"
      },
      "source": [
        "1.3 Width, precision, and alignment of strings \n",
        "\n",
        "To achieve the expected effects of strings in aspects of width, precison, and alignment, refer to the formatting operator commands. "
      ]
    },
    {
      "cell_type": "code",
      "metadata": {
        "id": "KiXLXxdhWqeY",
        "outputId": "50e24dca-0370-4a6d-ae6a-6bb8c4be75f6",
        "colab": {
          "base_uri": "https://localhost:8080/"
        }
      },
      "source": [
        "print(\"%c\" %97)"
      ],
      "execution_count": 4,
      "outputs": [
        {
          "output_type": "stream",
          "text": [
            "a\n"
          ],
          "name": "stdout"
        }
      ]
    },
    {
      "cell_type": "code",
      "metadata": {
        "id": "h6dkqdnJWwTt",
        "outputId": "228d8db1-b574-45dd-cf60-f812ca7a8001",
        "colab": {
          "base_uri": "https://localhost:8080/"
        }
      },
      "source": [
        "num=345\n",
        "print(\"This is the number %i and the following %i\" %(num, num+1))"
      ],
      "execution_count": 16,
      "outputs": [
        {
          "output_type": "stream",
          "text": [
            "This is the number 345 and the following 346\n"
          ],
          "name": "stdout"
        }
      ]
    },
    {
      "cell_type": "markdown",
      "metadata": {
        "id": "mn3Ec6rpXWK0"
      },
      "source": [
        "1.4 Connect and repeat strings \n"
      ]
    },
    {
      "cell_type": "code",
      "metadata": {
        "id": "QuLakbaiXb-c",
        "outputId": "cf85a113-9e80-4de8-c651-71f3f8a8b84c",
        "colab": {
          "base_uri": "https://localhost:8080/"
        }
      },
      "source": [
        "s= 'I '+'want '+'sleep'\n",
        "print(s)"
      ],
      "execution_count": 18,
      "outputs": [
        {
          "output_type": "stream",
          "text": [
            "I want sleep\n"
          ],
          "name": "stdout"
        }
      ]
    }
  ]
}

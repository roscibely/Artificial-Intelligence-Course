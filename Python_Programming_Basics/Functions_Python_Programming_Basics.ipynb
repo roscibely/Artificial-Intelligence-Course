{
  "nbformat": 4,
  "nbformat_minor": 0,
  "metadata": {
    "colab": {
      "name": "Functions Python Programming Basics.ipynb",
      "provenance": [],
      "authorship_tag": "ABX9TyM3RyGpua10iwq4Jgj7zMR7",
      "include_colab_link": true
    },
    "kernelspec": {
      "name": "python3",
      "display_name": "Python 3"
    }
  },
  "cells": [
    {
      "cell_type": "markdown",
      "metadata": {
        "id": "view-in-github",
        "colab_type": "text"
      },
      "source": [
        "<a href=\"https://colab.research.google.com/github/roscibely/Huawei-HCIA/blob/main/tree/main/Python_Programming_Basics/Functions_Python_Programming_Basics.ipynb\" target=\"_parent\"><img src=\"https://colab.research.google.com/assets/colab-badge.svg\" alt=\"Open In Colab\"/></a>"
      ]
    },
    {
      "cell_type": "markdown",
      "metadata": {
        "id": "ab4V_WHQZtpV"
      },
      "source": [
        "1. Functions \n",
        "\n",
        "This experiment mainly introduces related knowledge and operations about functions in Python.\n",
        "\n",
        "1.1. Objectives of the experiment \n",
        "\n",
        "- Understand meanings of Python functions\n",
        "- Grasp related operations on Python function."
      ]
    },
    {
      "cell_type": "markdown",
      "metadata": {
        "id": "-vRQkkiNaUSY"
      },
      "source": [
        "1.2 Common built-in functions \n",
        "\n",
        "The **int** function cann be used to convert other types of data into integers. "
      ]
    },
    {
      "cell_type": "code",
      "metadata": {
        "id": "ZZjnNxItX9Yk",
        "outputId": "d36ffe8d-3d75-4aa2-a7d7-39684f9c79b9",
        "colab": {
          "base_uri": "https://localhost:8080/"
        }
      },
      "source": [
        "int(12.3)"
      ],
      "execution_count": 1,
      "outputs": [
        {
          "output_type": "execute_result",
          "data": {
            "text/plain": [
              "12"
            ]
          },
          "metadata": {
            "tags": []
          },
          "execution_count": 1
        }
      ]
    },
    {
      "cell_type": "code",
      "metadata": {
        "id": "ahMzCWHBaqFn",
        "outputId": "db4f0319-a739-4a03-a047-9a99cb5f3deb",
        "colab": {
          "base_uri": "https://localhost:8080/"
        }
      },
      "source": [
        "int(\"34\")"
      ],
      "execution_count": 3,
      "outputs": [
        {
          "output_type": "execute_result",
          "data": {
            "text/plain": [
              "34"
            ]
          },
          "metadata": {
            "tags": []
          },
          "execution_count": 3
        }
      ]
    },
    {
      "cell_type": "code",
      "metadata": {
        "id": "8bPCmjs3ay1D",
        "outputId": "4e5f755a-2840-48db-df4a-ddcd4576bfb9",
        "colab": {
          "base_uri": "https://localhost:8080/"
        }
      },
      "source": [
        "# There are float() str() bool() \n",
        "bool(1)"
      ],
      "execution_count": 4,
      "outputs": [
        {
          "output_type": "execute_result",
          "data": {
            "text/plain": [
              "True"
            ]
          },
          "metadata": {
            "tags": []
          },
          "execution_count": 4
        }
      ]
    },
    {
      "cell_type": "markdown",
      "metadata": {
        "id": "34-N830ya-t3"
      },
      "source": [
        "1.3 Function name \n",
        "\n",
        "A function name is a reference to a function object, and it can be assigned to a variable, wich is equivalent to giving the function an alias."
      ]
    },
    {
      "cell_type": "code",
      "metadata": {
        "id": "lmIRQjM7bKxL",
        "outputId": "cf3a190f-182d-4650-a2d0-1c2674fcbf12",
        "colab": {
          "base_uri": "https://localhost:8080/"
        }
      },
      "source": [
        "a=abs # Variable a points to function abs\n",
        "a(-20) #it is the same abs(-20)"
      ],
      "execution_count": 5,
      "outputs": [
        {
          "output_type": "execute_result",
          "data": {
            "text/plain": [
              "20"
            ]
          },
          "metadata": {
            "tags": []
          },
          "execution_count": 5
        }
      ]
    },
    {
      "cell_type": "markdown",
      "metadata": {
        "id": "22wyT9l5bU0Q"
      },
      "source": [
        "1.4 Define functions \n",
        "\n",
        "In Python, you can use the **def** statement to define a function, listing function names, brackets, arguments in brackets and colons successively. Then you can edit a function in an indentation block and use the **return** statement to retuurn value."
      ]
    },
    {
      "cell_type": "code",
      "metadata": {
        "id": "fnzT4iHGgChT"
      },
      "source": [
        "def my_abs(x):\n",
        "  if x>=0: \n",
        "    return x\n",
        "  else:\n",
        "    return -x "
      ],
      "execution_count": null,
      "outputs": []
    },
    {
      "cell_type": "markdown",
      "metadata": {
        "id": "bk32zCoLgPjV"
      },
      "source": [
        "You can use the **pass** statement to define a void function, which can be used as a placeholder. \n"
      ]
    },
    {
      "cell_type": "code",
      "metadata": {
        "id": "H-4dJ8-4hBGV"
      },
      "source": [
        "def sayhello(who):\n",
        "        print ('Hello,', who + '!')\n",
        "        pass"
      ],
      "execution_count": 8,
      "outputs": []
    },
    {
      "cell_type": "code",
      "metadata": {
        "id": "Y7tJ_eAbhVkb",
        "outputId": "522954e5-8f8c-43fb-b100-dc2048839837",
        "colab": {
          "base_uri": "https://localhost:8080/"
        }
      },
      "source": [
        "sayhello('Mirror')"
      ],
      "execution_count": 9,
      "outputs": [
        {
          "output_type": "stream",
          "text": [
            "Hello, Mirror!\n"
          ],
          "name": "stdout"
        }
      ]
    },
    {
      "cell_type": "markdown",
      "metadata": {
        "id": "yPKLqnRthlz6"
      },
      "source": [
        "1.5 Keyword arguments \n",
        "\n",
        "Changeable arguments allow you input zero or any number of arguments, and these changeable arguments will be assembled into a tuple for function cadeflling. While keyword arguments allow you to input zero or any number of arguments, and these keyword arguments will be assembled into a dictionary in functions. "
      ]
    },
    {
      "cell_type": "code",
      "metadata": {
        "id": "GhfeTvHtiF_g"
      },
      "source": [
        "def person(name, age, **kw):\n",
        "  print('Name:', name, 'Age:', 'Other:',kw)"
      ],
      "execution_count": 10,
      "outputs": []
    },
    {
      "cell_type": "code",
      "metadata": {
        "id": "piSmCLU2iTkP",
        "outputId": "f8e9ea62-c7a7-417b-fa02-2f79a5ba2c5c",
        "colab": {
          "base_uri": "https://localhost:8080/"
        }
      },
      "source": [
        "person('Mike', 30)"
      ],
      "execution_count": 15,
      "outputs": [
        {
          "output_type": "stream",
          "text": [
            "Name: Mike Age: Other: {}\n"
          ],
          "name": "stdout"
        }
      ]
    },
    {
      "cell_type": "code",
      "metadata": {
        "id": "aGMlcc8KilqF",
        "outputId": "098e873a-fc00-41fb-be9a-04f4cb203289",
        "colab": {
          "base_uri": "https://localhost:8080/"
        }
      },
      "source": [
        "person('Mike', 30, gender='M', job='Engineer')"
      ],
      "execution_count": 16,
      "outputs": [
        {
          "output_type": "stream",
          "text": [
            "Name: Mike Age: Other: {'gender': 'M', 'job': 'Engineer'}\n"
          ],
          "name": "stdout"
        }
      ]
    },
    {
      "cell_type": "code",
      "metadata": {
        "id": "yOYqi7Pbix__",
        "outputId": "cd2b27d9-2bea-4e02-c180-ec5ee10fafb8",
        "colab": {
          "base_uri": "https://localhost:8080/"
        }
      },
      "source": [
        "#You can certainly simplify the above mentioned complec function calling \n",
        "extra= {'gender':'M', 'job': 'Engineer'}\n",
        "person('Mike', 30, **extra)"
      ],
      "execution_count": 24,
      "outputs": [
        {
          "output_type": "stream",
          "text": [
            "Name: Mike Age: Other: {'gender': 'M', 'job': 'Engineer'}\n"
          ],
          "name": "stdout"
        }
      ]
    },
    {
      "cell_type": "markdown",
      "metadata": {
        "id": "-veJSc2htLkv"
      },
      "source": [
        "1.7 Name keyword arguments \n",
        "\n",
        "If you want to restrict names of keyword arguments, you can name keywords arguments. For example, you can accept only \"city\" and \"job\" as keyword arguments. A function defined in this way is as follows: "
      ]
    },
    {
      "cell_type": "code",
      "metadata": {
        "id": "p7e8q2u7tlN6"
      },
      "source": [
        "def person(name, age, *,city,job):\n",
        "  print(name,age,city, job)"
      ],
      "execution_count": 25,
      "outputs": []
    },
    {
      "cell_type": "markdown",
      "metadata": {
        "id": "STVS7oYytwdD"
      },
      "source": [
        "Different from keyword argument \"**kw\", a special separator \" * \" is required to name a keyword argument.  "
      ]
    },
    {
      "cell_type": "code",
      "metadata": {
        "id": "yF1_rgOwuAee",
        "outputId": "2ae3c1bb-e158-4b43-9d75-bfe26093597d",
        "colab": {
          "base_uri": "https://localhost:8080/"
        }
      },
      "source": [
        "person('Jack', '27', city='Paris', job='Engineer')"
      ],
      "execution_count": 26,
      "outputs": [
        {
          "output_type": "stream",
          "text": [
            "Jack 27 Paris Engineer\n"
          ],
          "name": "stdout"
        }
      ]
    },
    {
      "cell_type": "markdown",
      "metadata": {
        "id": "5HIx9CLouRVu"
      },
      "source": [
        "1.8 Argument combination \n",
        "\n",
        "To define a function in Python, you can use required arguments, default arguments, changeable arguments, keyword arguments and named keyword arguments. "
      ]
    },
    {
      "cell_type": "code",
      "metadata": {
        "id": "iohn-4JbuoRL"
      },
      "source": [
        "def f1(a,b,c=0,*args,**kw):\n",
        "  print(a,b,c,args,kw)"
      ],
      "execution_count": 27,
      "outputs": []
    },
    {
      "cell_type": "code",
      "metadata": {
        "id": "CwYxz1jUu00-",
        "outputId": "e936e8f2-138a-4394-c2d3-d2fd958a354b",
        "colab": {
          "base_uri": "https://localhost:8080/"
        }
      },
      "source": [
        "f1(1,2)"
      ],
      "execution_count": 31,
      "outputs": [
        {
          "output_type": "stream",
          "text": [
            "1 2 0 () {}\n"
          ],
          "name": "stdout"
        }
      ]
    },
    {
      "cell_type": "code",
      "metadata": {
        "id": "zmGLCxwlvCcy",
        "outputId": "67457f26-82fd-443a-cc83-935b6492e4b9",
        "colab": {
          "base_uri": "https://localhost:8080/"
        }
      },
      "source": [
        "f1(1,2,3,'this is a args',test='A test')"
      ],
      "execution_count": 33,
      "outputs": [
        {
          "output_type": "stream",
          "text": [
            "1 2 3 ('this is a args',) {'test': 'A test'}\n"
          ],
          "name": "stdout"
        }
      ]
    }
  ]
}

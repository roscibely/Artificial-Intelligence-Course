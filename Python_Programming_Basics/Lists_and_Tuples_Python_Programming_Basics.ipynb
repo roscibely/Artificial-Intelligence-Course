{
  "nbformat": 4,
  "nbformat_minor": 0,
  "metadata": {
    "colab": {
      "name": "Lists and Tuples Python Programming Basics.ipynb",
      "provenance": [],
      "authorship_tag": "ABX9TyNSA0KR1nzYrb8ES/HkOmTB",
      "include_colab_link": true
    },
    "kernelspec": {
      "name": "python3",
      "display_name": "Python 3"
    }
  },
  "cells": [
    {
      "cell_type": "markdown",
      "metadata": {
        "id": "view-in-github",
        "colab_type": "text"
      },
      "source": [
        "<a href=\"https://colab.research.google.com/github/roscibely/Huawei-HCIA/blob/main/tree/main/Python_Programming_Basics/Lists_and_Tuples_Python_Programming_Basics.ipynb\" target=\"_parent\"><img src=\"https://colab.research.google.com/assets/colab-badge.svg\" alt=\"Open In Colab\"/></a>"
      ]
    },
    {
      "cell_type": "markdown",
      "metadata": {
        "id": "lk7IbGNPw5v-"
      },
      "source": [
        "Python Programming Basics - Experimental Guide"
      ]
    },
    {
      "cell_type": "markdown",
      "metadata": {
        "id": "LG3j5X5KxQAg"
      },
      "source": [
        "About the experiment\n",
        "\n",
        "This experiment introduces knowledge units about lists and tubles in Python. \n",
        "\n",
        "1. Objectives of the experiment \n",
        "\n",
        "- Understad meanings of Python lists and tuples. \n",
        "- Grasp related operations on Python lists and tuples. "
      ]
    },
    {
      "cell_type": "markdown",
      "metadata": {
        "id": "6secn2VSxt4f"
      },
      "source": [
        "- Python lists. Lists include a series of ordered elements, and expressed in the form of []. As lists are combined orderly, you can identify the position of elements for acesss. \n",
        "\n",
        "Note: The list index start from 0 forward and -1 backward. \n",
        "\n",
        "- Python tuples. Tuples are similar to lists in Python, except for that elements of tuples are unchangeable. Tuples are expressed in parentheses () while list in []. "
      ]
    },
    {
      "cell_type": "markdown",
      "metadata": {
        "id": "XxT_7an0ymJz"
      },
      "source": [
        "1.1 Experimental operations on Lists"
      ]
    },
    {
      "cell_type": "code",
      "metadata": {
        "id": "nH1-APNHw4-_"
      },
      "source": [
        "#Understand the difference between \"append\" and \"extend\"\n",
        "\n",
        "#Lists x and y:\n",
        "x=[1,2,3]\n",
        "y=[4,5]\n"
      ],
      "execution_count": null,
      "outputs": []
    },
    {
      "cell_type": "code",
      "metadata": {
        "id": "gONPTC000TP1",
        "outputId": "5776d1ba-1d0b-4c81-f0e9-9617d14d13b3",
        "colab": {
          "base_uri": "https://localhost:8080/"
        }
      },
      "source": [
        "x.append(y) # append adds data to the end of the list as a new element\n",
        "print(x)"
      ],
      "execution_count": null,
      "outputs": [
        {
          "output_type": "stream",
          "text": [
            "[1, 2, 3, 4, 5, [4, 5]]\n"
          ],
          "name": "stdout"
        }
      ]
    },
    {
      "cell_type": "code",
      "metadata": {
        "id": "kUnHyxJSzE6z",
        "outputId": "a61f6c0a-773b-4106-8b06-835a2d8eee0f",
        "colab": {
          "base_uri": "https://localhost:8080/"
        }
      },
      "source": [
        "y.extend(y) # extend adds data to the end of list one by one\n",
        "print(y)"
      ],
      "execution_count": null,
      "outputs": [
        {
          "output_type": "stream",
          "text": [
            "[4, 5, 4, 5]\n"
          ],
          "name": "stdout"
        }
      ]
    },
    {
      "cell_type": "code",
      "metadata": {
        "id": "0Bf6ukW0zdtL",
        "outputId": "f0e77215-0a62-421e-b4a3-1992e194e96c",
        "colab": {
          "base_uri": "https://localhost:8080/"
        }
      },
      "source": [
        "# this for is equal to method extend\n",
        "for i in y:\n",
        "  x.append(i)\n",
        "  \n",
        "print(x)"
      ],
      "execution_count": null,
      "outputs": [
        {
          "output_type": "stream",
          "text": [
            "[1, 2, 3, 4, 5]\n"
          ],
          "name": "stdout"
        }
      ]
    },
    {
      "cell_type": "markdown",
      "metadata": {
        "id": "Aaw2-650zxqp"
      },
      "source": [
        "1.2 Check wheter the list is empty"
      ]
    },
    {
      "cell_type": "code",
      "metadata": {
        "id": "e1JIOhL0zw7n",
        "outputId": "080c155a-c832-4d65-c28b-4114a41b4517",
        "colab": {
          "base_uri": "https://localhost:8080/"
        }
      },
      "source": [
        "items=[]\n",
        "\n",
        "if len(items)==0:\n",
        "  print(\"Empty list\")\n",
        "\n",
        "#or\n",
        "\n",
        "if items == []:\n",
        "  print(\"Empty list\")"
      ],
      "execution_count": null,
      "outputs": [
        {
          "output_type": "stream",
          "text": [
            "Empty list\n",
            "Empty list\n"
          ],
          "name": "stdout"
        }
      ]
    },
    {
      "cell_type": "markdown",
      "metadata": {
        "id": "U3WWl0Dt0ucn"
      },
      "source": [
        "1.3 Copy a list"
      ]
    },
    {
      "cell_type": "code",
      "metadata": {
        "id": "6ElzTJ360t7n"
      },
      "source": [
        "#Method one:\n",
        "new_list = old_list[:]\n",
        "#Method two:\n",
        "new_list = list(old_list)\n",
        "#Method three \n",
        "import copy \n",
        "new_list=copy.copy(old_list) #copy \n",
        "new_list=copy.deepcopy(old_list) # depp copy "
      ],
      "execution_count": null,
      "outputs": []
    },
    {
      "cell_type": "markdown",
      "metadata": {
        "id": "MiaUMtJ_1UTi"
      },
      "source": [
        "1.4 Get the last element of a list \n",
        "\n",
        "- Elements in an index can be positive or negative numbers. Positive numbers mean indexing from the left of list, while negative numbers mean indexing from the right of list. "
      ]
    },
    {
      "cell_type": "code",
      "metadata": {
        "id": "UtiW7hJ_14ye",
        "outputId": "7e2ad7bb-0da2-42e1-8e06-5dc7ae3e6fee",
        "colab": {
          "base_uri": "https://localhost:8080/"
        }
      },
      "source": [
        "a = [1,2,3,4,5,6,7,8,9,10]\n",
        "a[len(a)-1] #acess the last element"
      ],
      "execution_count": null,
      "outputs": [
        {
          "output_type": "execute_result",
          "data": {
            "text/plain": [
              "10"
            ]
          },
          "metadata": {
            "tags": []
          },
          "execution_count": 16
        }
      ]
    },
    {
      "cell_type": "code",
      "metadata": {
        "id": "XHEgYhHu2EDN",
        "outputId": "24880b8a-315a-459b-9ee6-0ecda4eba6be",
        "colab": {
          "base_uri": "https://localhost:8080/"
        }
      },
      "source": [
        "a[-1] #acess the last element"
      ],
      "execution_count": null,
      "outputs": [
        {
          "output_type": "execute_result",
          "data": {
            "text/plain": [
              "10"
            ]
          },
          "metadata": {
            "tags": []
          },
          "execution_count": 17
        }
      ]
    },
    {
      "cell_type": "code",
      "metadata": {
        "id": "jww3kUYr2JjW",
        "outputId": "08e6a833-7e30-4058-f889-b2cc99fe9934",
        "colab": {
          "base_uri": "https://localhost:8080/"
        }
      },
      "source": [
        "#Creat a list \n",
        "\n",
        "import numpy as np\n",
        "a=np.arange(1, 10, 1) #start at 1 and end 9 \n",
        "print(\"a=\",a)\n",
        "\n",
        "b=np.arange(1, 5.5, 0.5) #start at 1 and end 5\n",
        "print(\"b=\",b)"
      ],
      "execution_count": null,
      "outputs": [
        {
          "output_type": "stream",
          "text": [
            "a= [1 2 3 4 5 6 7 8 9]\n",
            "b= [1.  1.5 2.  2.5 3.  3.5 4.  4.5 5. ]\n"
          ],
          "name": "stdout"
        }
      ]
    },
    {
      "cell_type": "markdown",
      "metadata": {
        "id": "E7Gjex3IHk3p"
      },
      "source": [
        "1.5 Sort lists\n",
        "\n",
        "- You can use two ways to sort lists. Python lists have a sort method and built-in function (sorted).  "
      ]
    },
    {
      "cell_type": "code",
      "metadata": {
        "id": "M8Si1-OpIDX9",
        "outputId": "fc34c8c2-b0a3-4f22-c245-a0a5959a5b3d",
        "colab": {
          "base_uri": "https://localhost:8080/"
        }
      },
      "source": [
        "items = [{'name': 'Homer', 'age': 39},\n",
        "         {'name': 'Bart', 'age': 10},\n",
        "         {'name': 'Cater', 'age': 20}]\n",
        "\n",
        "items.sort(key=lambda item: item.get(\"age\"))\n",
        "print(items)"
      ],
      "execution_count": null,
      "outputs": [
        {
          "output_type": "stream",
          "text": [
            "[{'name': 'Bart', 'age': 10}, {'name': 'Cater', 'age': 20}, {'name': 'Homer', 'age': 39}]\n"
          ],
          "name": "stdout"
        }
      ]
    },
    {
      "cell_type": "markdown",
      "metadata": {
        "id": "1G2BIzEOJDtT"
      },
      "source": [
        "1.6 Remove elements from a list \n",
        "\n",
        "- The \"remove\" method removes an element, and it removess only the element that appears for the first time. "
      ]
    },
    {
      "cell_type": "code",
      "metadata": {
        "id": "NUkSUX84Jc5k",
        "outputId": "26d26227-0990-42b3-fae9-d896b644bff8",
        "colab": {
          "base_uri": "https://localhost:8080/"
        }
      },
      "source": [
        "a = [0,2,1,3]\n",
        "a.remove(2)\n",
        "print(a)"
      ],
      "execution_count": null,
      "outputs": [
        {
          "output_type": "stream",
          "text": [
            "[0, 1, 3]\n"
          ],
          "name": "stdout"
        }
      ]
    },
    {
      "cell_type": "markdown",
      "metadata": {
        "id": "5KSTLWFQJv0X"
      },
      "source": [
        "1.7 Connect two lists"
      ]
    },
    {
      "cell_type": "code",
      "metadata": {
        "id": "lK3_M0DwJ1I1",
        "outputId": "ce86f211-1c60-4dea-99d4-2ed85b4e5483",
        "colab": {
          "base_uri": "https://localhost:8080/"
        }
      },
      "source": [
        "listone=[1,2,3]\n",
        "listttwo = [4,5,6]\n",
        "mergelist = listone+listttwo\n",
        "print(mergelist)"
      ],
      "execution_count": null,
      "outputs": [
        {
          "output_type": "stream",
          "text": [
            "[1, 2, 3, 4, 5, 6]\n"
          ],
          "name": "stdout"
        }
      ]
    },
    {
      "cell_type": "markdown",
      "metadata": {
        "id": "NcvhBw7MKNec"
      },
      "source": [
        "2. Experimental Operations on Tuples \n",
        "\n",
        "This section describes related operations on tuples. \n",
        "\n",
        "- A tuple cannot be changed after being initialized. Elements must be determined when a tuple is defined. "
      ]
    },
    {
      "cell_type": "code",
      "metadata": {
        "id": "torDLFRZKMrn",
        "outputId": "290d2ee2-2b7f-4feb-8d85-593c1ce4fb0d",
        "colab": {
          "base_uri": "https://localhost:8080/"
        }
      },
      "source": [
        "t=(1,) #\n",
        "print(t)"
      ],
      "execution_count": null,
      "outputs": [
        {
          "output_type": "stream",
          "text": [
            "(1,)\n"
          ],
          "name": "stdout"
        }
      ]
    },
    {
      "cell_type": "code",
      "metadata": {
        "id": "zl5LfEIyLFTf",
        "outputId": "2d813483-6cbe-4845-885b-4a9a42238740",
        "colab": {
          "base_uri": "https://localhost:8080/"
        }
      },
      "source": [
        "#Define a changeable tuple \n",
        "\n",
        "cn=('yi', 'er', 'san')\n",
        "en=('one','two','three')\n",
        "num=(1,2,3)\n",
        "tmp=[cn,en,num] #a list of tuples\n",
        "print(tmp)"
      ],
      "execution_count": null,
      "outputs": [
        {
          "output_type": "stream",
          "text": [
            "[('yi', 'er', 'san'), ('one', 'two', 'three'), (1, 2, 3)]\n"
          ],
          "name": "stdout"
        }
      ]
    }
  ]
}
